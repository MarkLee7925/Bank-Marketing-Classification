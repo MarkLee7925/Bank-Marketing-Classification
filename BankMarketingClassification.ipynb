{
  "nbformat": 4,
  "nbformat_minor": 0,
  "metadata": {
    "colab": {
      "name": "BankMarketingClassification.ipynb",
      "provenance": [],
      "collapsed_sections": [],
      "authorship_tag": "ABX9TyMpN9eYqFrFrBRwcxzSmi14",
      "include_colab_link": true
    },
    "kernelspec": {
      "display_name": "Python 3",
      "name": "python3"
    }
  },
  "cells": [
    {
      "cell_type": "markdown",
      "metadata": {
        "id": "view-in-github",
        "colab_type": "text"
      },
      "source": [
        "<a href=\"https://colab.research.google.com/github/MarkLee7925/Bank-Marketing-Classification/blob/main/BankMarketingClassification.ipynb\" target=\"_parent\"><img src=\"https://colab.research.google.com/assets/colab-badge.svg\" alt=\"Open In Colab\"/></a>"
      ]
    },
    {
      "cell_type": "markdown",
      "metadata": {
        "id": "APZVoQmL47I1"
      },
      "source": [
        "# Bank Marketing Classification"
      ]
    },
    {
      "cell_type": "markdown",
      "metadata": {
        "id": "nNx9hfINDIam"
      },
      "source": [
        "## 1. Import Libraries"
      ]
    },
    {
      "cell_type": "code",
      "metadata": {
        "id": "xuNOzl914e6q"
      },
      "source": [
        "import numpy as np\n",
        "import matplotlib.pyplot as plt\n",
        "import pandas as pd\n",
        "import seaborn as sns"
      ],
      "execution_count": 1,
      "outputs": []
    },
    {
      "cell_type": "markdown",
      "metadata": {
        "id": "dHpMeEh8Z40u"
      },
      "source": [
        "## 2. Load and Summarize Data"
      ]
    },
    {
      "cell_type": "code",
      "metadata": {
        "colab": {
          "base_uri": "https://localhost:8080/"
        },
        "id": "Vs4q7FIt4s8o",
        "outputId": "7e190a95-b5f0-4ba0-cc4b-a0d38403fd67"
      },
      "source": [
        "# Load dataframe (df)\n",
        "df = pd.read_csv('bank-additional-full.csv', sep=';')\n",
        "X, y = df.iloc[:, :-1].values, df.iloc[:, -1].values\n",
        "\n",
        "print(X.shape, y.shape)"
      ],
      "execution_count": 2,
      "outputs": [
        {
          "output_type": "stream",
          "name": "stdout",
          "text": [
            "(41188, 20) (41188,)\n"
          ]
        }
      ]
    },
    {
      "cell_type": "code",
      "metadata": {
        "colab": {
          "base_uri": "https://localhost:8080/",
          "height": 439
        },
        "id": "Y40bdlo6LmXA",
        "outputId": "30269c98-f001-478f-8203-b7e0e3b7bc9d"
      },
      "source": [
        "df"
      ],
      "execution_count": 3,
      "outputs": [
        {
          "output_type": "execute_result",
          "data": {
            "text/html": [
              "<div>\n",
              "<style scoped>\n",
              "    .dataframe tbody tr th:only-of-type {\n",
              "        vertical-align: middle;\n",
              "    }\n",
              "\n",
              "    .dataframe tbody tr th {\n",
              "        vertical-align: top;\n",
              "    }\n",
              "\n",
              "    .dataframe thead th {\n",
              "        text-align: right;\n",
              "    }\n",
              "</style>\n",
              "<table border=\"1\" class=\"dataframe\">\n",
              "  <thead>\n",
              "    <tr style=\"text-align: right;\">\n",
              "      <th></th>\n",
              "      <th>age</th>\n",
              "      <th>job</th>\n",
              "      <th>marital</th>\n",
              "      <th>education</th>\n",
              "      <th>default</th>\n",
              "      <th>housing</th>\n",
              "      <th>loan</th>\n",
              "      <th>contact</th>\n",
              "      <th>month</th>\n",
              "      <th>day_of_week</th>\n",
              "      <th>duration</th>\n",
              "      <th>campaign</th>\n",
              "      <th>pdays</th>\n",
              "      <th>previous</th>\n",
              "      <th>poutcome</th>\n",
              "      <th>emp.var.rate</th>\n",
              "      <th>cons.price.idx</th>\n",
              "      <th>cons.conf.idx</th>\n",
              "      <th>euribor3m</th>\n",
              "      <th>nr.employed</th>\n",
              "      <th>y</th>\n",
              "    </tr>\n",
              "  </thead>\n",
              "  <tbody>\n",
              "    <tr>\n",
              "      <th>0</th>\n",
              "      <td>56</td>\n",
              "      <td>housemaid</td>\n",
              "      <td>married</td>\n",
              "      <td>basic.4y</td>\n",
              "      <td>no</td>\n",
              "      <td>no</td>\n",
              "      <td>no</td>\n",
              "      <td>telephone</td>\n",
              "      <td>may</td>\n",
              "      <td>mon</td>\n",
              "      <td>261</td>\n",
              "      <td>1</td>\n",
              "      <td>999</td>\n",
              "      <td>0</td>\n",
              "      <td>nonexistent</td>\n",
              "      <td>1.1</td>\n",
              "      <td>93.994</td>\n",
              "      <td>-36.4</td>\n",
              "      <td>4.857</td>\n",
              "      <td>5191.0</td>\n",
              "      <td>no</td>\n",
              "    </tr>\n",
              "    <tr>\n",
              "      <th>1</th>\n",
              "      <td>57</td>\n",
              "      <td>services</td>\n",
              "      <td>married</td>\n",
              "      <td>high.school</td>\n",
              "      <td>unknown</td>\n",
              "      <td>no</td>\n",
              "      <td>no</td>\n",
              "      <td>telephone</td>\n",
              "      <td>may</td>\n",
              "      <td>mon</td>\n",
              "      <td>149</td>\n",
              "      <td>1</td>\n",
              "      <td>999</td>\n",
              "      <td>0</td>\n",
              "      <td>nonexistent</td>\n",
              "      <td>1.1</td>\n",
              "      <td>93.994</td>\n",
              "      <td>-36.4</td>\n",
              "      <td>4.857</td>\n",
              "      <td>5191.0</td>\n",
              "      <td>no</td>\n",
              "    </tr>\n",
              "    <tr>\n",
              "      <th>2</th>\n",
              "      <td>37</td>\n",
              "      <td>services</td>\n",
              "      <td>married</td>\n",
              "      <td>high.school</td>\n",
              "      <td>no</td>\n",
              "      <td>yes</td>\n",
              "      <td>no</td>\n",
              "      <td>telephone</td>\n",
              "      <td>may</td>\n",
              "      <td>mon</td>\n",
              "      <td>226</td>\n",
              "      <td>1</td>\n",
              "      <td>999</td>\n",
              "      <td>0</td>\n",
              "      <td>nonexistent</td>\n",
              "      <td>1.1</td>\n",
              "      <td>93.994</td>\n",
              "      <td>-36.4</td>\n",
              "      <td>4.857</td>\n",
              "      <td>5191.0</td>\n",
              "      <td>no</td>\n",
              "    </tr>\n",
              "    <tr>\n",
              "      <th>3</th>\n",
              "      <td>40</td>\n",
              "      <td>admin.</td>\n",
              "      <td>married</td>\n",
              "      <td>basic.6y</td>\n",
              "      <td>no</td>\n",
              "      <td>no</td>\n",
              "      <td>no</td>\n",
              "      <td>telephone</td>\n",
              "      <td>may</td>\n",
              "      <td>mon</td>\n",
              "      <td>151</td>\n",
              "      <td>1</td>\n",
              "      <td>999</td>\n",
              "      <td>0</td>\n",
              "      <td>nonexistent</td>\n",
              "      <td>1.1</td>\n",
              "      <td>93.994</td>\n",
              "      <td>-36.4</td>\n",
              "      <td>4.857</td>\n",
              "      <td>5191.0</td>\n",
              "      <td>no</td>\n",
              "    </tr>\n",
              "    <tr>\n",
              "      <th>4</th>\n",
              "      <td>56</td>\n",
              "      <td>services</td>\n",
              "      <td>married</td>\n",
              "      <td>high.school</td>\n",
              "      <td>no</td>\n",
              "      <td>no</td>\n",
              "      <td>yes</td>\n",
              "      <td>telephone</td>\n",
              "      <td>may</td>\n",
              "      <td>mon</td>\n",
              "      <td>307</td>\n",
              "      <td>1</td>\n",
              "      <td>999</td>\n",
              "      <td>0</td>\n",
              "      <td>nonexistent</td>\n",
              "      <td>1.1</td>\n",
              "      <td>93.994</td>\n",
              "      <td>-36.4</td>\n",
              "      <td>4.857</td>\n",
              "      <td>5191.0</td>\n",
              "      <td>no</td>\n",
              "    </tr>\n",
              "    <tr>\n",
              "      <th>...</th>\n",
              "      <td>...</td>\n",
              "      <td>...</td>\n",
              "      <td>...</td>\n",
              "      <td>...</td>\n",
              "      <td>...</td>\n",
              "      <td>...</td>\n",
              "      <td>...</td>\n",
              "      <td>...</td>\n",
              "      <td>...</td>\n",
              "      <td>...</td>\n",
              "      <td>...</td>\n",
              "      <td>...</td>\n",
              "      <td>...</td>\n",
              "      <td>...</td>\n",
              "      <td>...</td>\n",
              "      <td>...</td>\n",
              "      <td>...</td>\n",
              "      <td>...</td>\n",
              "      <td>...</td>\n",
              "      <td>...</td>\n",
              "      <td>...</td>\n",
              "    </tr>\n",
              "    <tr>\n",
              "      <th>41183</th>\n",
              "      <td>73</td>\n",
              "      <td>retired</td>\n",
              "      <td>married</td>\n",
              "      <td>professional.course</td>\n",
              "      <td>no</td>\n",
              "      <td>yes</td>\n",
              "      <td>no</td>\n",
              "      <td>cellular</td>\n",
              "      <td>nov</td>\n",
              "      <td>fri</td>\n",
              "      <td>334</td>\n",
              "      <td>1</td>\n",
              "      <td>999</td>\n",
              "      <td>0</td>\n",
              "      <td>nonexistent</td>\n",
              "      <td>-1.1</td>\n",
              "      <td>94.767</td>\n",
              "      <td>-50.8</td>\n",
              "      <td>1.028</td>\n",
              "      <td>4963.6</td>\n",
              "      <td>yes</td>\n",
              "    </tr>\n",
              "    <tr>\n",
              "      <th>41184</th>\n",
              "      <td>46</td>\n",
              "      <td>blue-collar</td>\n",
              "      <td>married</td>\n",
              "      <td>professional.course</td>\n",
              "      <td>no</td>\n",
              "      <td>no</td>\n",
              "      <td>no</td>\n",
              "      <td>cellular</td>\n",
              "      <td>nov</td>\n",
              "      <td>fri</td>\n",
              "      <td>383</td>\n",
              "      <td>1</td>\n",
              "      <td>999</td>\n",
              "      <td>0</td>\n",
              "      <td>nonexistent</td>\n",
              "      <td>-1.1</td>\n",
              "      <td>94.767</td>\n",
              "      <td>-50.8</td>\n",
              "      <td>1.028</td>\n",
              "      <td>4963.6</td>\n",
              "      <td>no</td>\n",
              "    </tr>\n",
              "    <tr>\n",
              "      <th>41185</th>\n",
              "      <td>56</td>\n",
              "      <td>retired</td>\n",
              "      <td>married</td>\n",
              "      <td>university.degree</td>\n",
              "      <td>no</td>\n",
              "      <td>yes</td>\n",
              "      <td>no</td>\n",
              "      <td>cellular</td>\n",
              "      <td>nov</td>\n",
              "      <td>fri</td>\n",
              "      <td>189</td>\n",
              "      <td>2</td>\n",
              "      <td>999</td>\n",
              "      <td>0</td>\n",
              "      <td>nonexistent</td>\n",
              "      <td>-1.1</td>\n",
              "      <td>94.767</td>\n",
              "      <td>-50.8</td>\n",
              "      <td>1.028</td>\n",
              "      <td>4963.6</td>\n",
              "      <td>no</td>\n",
              "    </tr>\n",
              "    <tr>\n",
              "      <th>41186</th>\n",
              "      <td>44</td>\n",
              "      <td>technician</td>\n",
              "      <td>married</td>\n",
              "      <td>professional.course</td>\n",
              "      <td>no</td>\n",
              "      <td>no</td>\n",
              "      <td>no</td>\n",
              "      <td>cellular</td>\n",
              "      <td>nov</td>\n",
              "      <td>fri</td>\n",
              "      <td>442</td>\n",
              "      <td>1</td>\n",
              "      <td>999</td>\n",
              "      <td>0</td>\n",
              "      <td>nonexistent</td>\n",
              "      <td>-1.1</td>\n",
              "      <td>94.767</td>\n",
              "      <td>-50.8</td>\n",
              "      <td>1.028</td>\n",
              "      <td>4963.6</td>\n",
              "      <td>yes</td>\n",
              "    </tr>\n",
              "    <tr>\n",
              "      <th>41187</th>\n",
              "      <td>74</td>\n",
              "      <td>retired</td>\n",
              "      <td>married</td>\n",
              "      <td>professional.course</td>\n",
              "      <td>no</td>\n",
              "      <td>yes</td>\n",
              "      <td>no</td>\n",
              "      <td>cellular</td>\n",
              "      <td>nov</td>\n",
              "      <td>fri</td>\n",
              "      <td>239</td>\n",
              "      <td>3</td>\n",
              "      <td>999</td>\n",
              "      <td>1</td>\n",
              "      <td>failure</td>\n",
              "      <td>-1.1</td>\n",
              "      <td>94.767</td>\n",
              "      <td>-50.8</td>\n",
              "      <td>1.028</td>\n",
              "      <td>4963.6</td>\n",
              "      <td>no</td>\n",
              "    </tr>\n",
              "  </tbody>\n",
              "</table>\n",
              "<p>41188 rows × 21 columns</p>\n",
              "</div>"
            ],
            "text/plain": [
              "       age          job  marital  ... euribor3m nr.employed    y\n",
              "0       56    housemaid  married  ...     4.857      5191.0   no\n",
              "1       57     services  married  ...     4.857      5191.0   no\n",
              "2       37     services  married  ...     4.857      5191.0   no\n",
              "3       40       admin.  married  ...     4.857      5191.0   no\n",
              "4       56     services  married  ...     4.857      5191.0   no\n",
              "...    ...          ...      ...  ...       ...         ...  ...\n",
              "41183   73      retired  married  ...     1.028      4963.6  yes\n",
              "41184   46  blue-collar  married  ...     1.028      4963.6   no\n",
              "41185   56      retired  married  ...     1.028      4963.6   no\n",
              "41186   44   technician  married  ...     1.028      4963.6  yes\n",
              "41187   74      retired  married  ...     1.028      4963.6   no\n",
              "\n",
              "[41188 rows x 21 columns]"
            ]
          },
          "metadata": {},
          "execution_count": 3
        }
      ]
    },
    {
      "cell_type": "code",
      "metadata": {
        "colab": {
          "base_uri": "https://localhost:8080/"
        },
        "id": "RUXT12RH4xJs",
        "outputId": "f8d39393-1bb6-48d5-8817-295c75a49276"
      },
      "source": [
        "df.info()"
      ],
      "execution_count": 4,
      "outputs": [
        {
          "output_type": "stream",
          "name": "stdout",
          "text": [
            "<class 'pandas.core.frame.DataFrame'>\n",
            "RangeIndex: 41188 entries, 0 to 41187\n",
            "Data columns (total 21 columns):\n",
            " #   Column          Non-Null Count  Dtype  \n",
            "---  ------          --------------  -----  \n",
            " 0   age             41188 non-null  int64  \n",
            " 1   job             41188 non-null  object \n",
            " 2   marital         41188 non-null  object \n",
            " 3   education       41188 non-null  object \n",
            " 4   default         41188 non-null  object \n",
            " 5   housing         41188 non-null  object \n",
            " 6   loan            41188 non-null  object \n",
            " 7   contact         41188 non-null  object \n",
            " 8   month           41188 non-null  object \n",
            " 9   day_of_week     41188 non-null  object \n",
            " 10  duration        41188 non-null  int64  \n",
            " 11  campaign        41188 non-null  int64  \n",
            " 12  pdays           41188 non-null  int64  \n",
            " 13  previous        41188 non-null  int64  \n",
            " 14  poutcome        41188 non-null  object \n",
            " 15  emp.var.rate    41188 non-null  float64\n",
            " 16  cons.price.idx  41188 non-null  float64\n",
            " 17  cons.conf.idx   41188 non-null  float64\n",
            " 18  euribor3m       41188 non-null  float64\n",
            " 19  nr.employed     41188 non-null  float64\n",
            " 20  y               41188 non-null  object \n",
            "dtypes: float64(5), int64(5), object(11)\n",
            "memory usage: 6.6+ MB\n"
          ]
        }
      ]
    },
    {
      "cell_type": "code",
      "metadata": {
        "colab": {
          "base_uri": "https://localhost:8080/"
        },
        "id": "0USxoxCsmgVM",
        "outputId": "19ac0417-91d1-448a-e99a-93f4c5ae82e1"
      },
      "source": [
        "# Check for missing values\n",
        "df.isnull().sum()"
      ],
      "execution_count": 5,
      "outputs": [
        {
          "output_type": "execute_result",
          "data": {
            "text/plain": [
              "age               0\n",
              "job               0\n",
              "marital           0\n",
              "education         0\n",
              "default           0\n",
              "housing           0\n",
              "loan              0\n",
              "contact           0\n",
              "month             0\n",
              "day_of_week       0\n",
              "duration          0\n",
              "campaign          0\n",
              "pdays             0\n",
              "previous          0\n",
              "poutcome          0\n",
              "emp.var.rate      0\n",
              "cons.price.idx    0\n",
              "cons.conf.idx     0\n",
              "euribor3m         0\n",
              "nr.employed       0\n",
              "y                 0\n",
              "dtype: int64"
            ]
          },
          "metadata": {},
          "execution_count": 5
        }
      ]
    },
    {
      "cell_type": "code",
      "metadata": {
        "colab": {
          "base_uri": "https://localhost:8080/",
          "height": 317
        },
        "id": "ey97ULPW4yvY",
        "outputId": "726ff680-e688-4c23-9ff7-42b5c3a7e1ec"
      },
      "source": [
        "df.describe()"
      ],
      "execution_count": 6,
      "outputs": [
        {
          "output_type": "execute_result",
          "data": {
            "text/html": [
              "<div>\n",
              "<style scoped>\n",
              "    .dataframe tbody tr th:only-of-type {\n",
              "        vertical-align: middle;\n",
              "    }\n",
              "\n",
              "    .dataframe tbody tr th {\n",
              "        vertical-align: top;\n",
              "    }\n",
              "\n",
              "    .dataframe thead th {\n",
              "        text-align: right;\n",
              "    }\n",
              "</style>\n",
              "<table border=\"1\" class=\"dataframe\">\n",
              "  <thead>\n",
              "    <tr style=\"text-align: right;\">\n",
              "      <th></th>\n",
              "      <th>age</th>\n",
              "      <th>duration</th>\n",
              "      <th>campaign</th>\n",
              "      <th>pdays</th>\n",
              "      <th>previous</th>\n",
              "      <th>emp.var.rate</th>\n",
              "      <th>cons.price.idx</th>\n",
              "      <th>cons.conf.idx</th>\n",
              "      <th>euribor3m</th>\n",
              "      <th>nr.employed</th>\n",
              "    </tr>\n",
              "  </thead>\n",
              "  <tbody>\n",
              "    <tr>\n",
              "      <th>count</th>\n",
              "      <td>41188.00000</td>\n",
              "      <td>41188.000000</td>\n",
              "      <td>41188.000000</td>\n",
              "      <td>41188.000000</td>\n",
              "      <td>41188.000000</td>\n",
              "      <td>41188.000000</td>\n",
              "      <td>41188.000000</td>\n",
              "      <td>41188.000000</td>\n",
              "      <td>41188.000000</td>\n",
              "      <td>41188.000000</td>\n",
              "    </tr>\n",
              "    <tr>\n",
              "      <th>mean</th>\n",
              "      <td>40.02406</td>\n",
              "      <td>258.285010</td>\n",
              "      <td>2.567593</td>\n",
              "      <td>962.475454</td>\n",
              "      <td>0.172963</td>\n",
              "      <td>0.081886</td>\n",
              "      <td>93.575664</td>\n",
              "      <td>-40.502600</td>\n",
              "      <td>3.621291</td>\n",
              "      <td>5167.035911</td>\n",
              "    </tr>\n",
              "    <tr>\n",
              "      <th>std</th>\n",
              "      <td>10.42125</td>\n",
              "      <td>259.279249</td>\n",
              "      <td>2.770014</td>\n",
              "      <td>186.910907</td>\n",
              "      <td>0.494901</td>\n",
              "      <td>1.570960</td>\n",
              "      <td>0.578840</td>\n",
              "      <td>4.628198</td>\n",
              "      <td>1.734447</td>\n",
              "      <td>72.251528</td>\n",
              "    </tr>\n",
              "    <tr>\n",
              "      <th>min</th>\n",
              "      <td>17.00000</td>\n",
              "      <td>0.000000</td>\n",
              "      <td>1.000000</td>\n",
              "      <td>0.000000</td>\n",
              "      <td>0.000000</td>\n",
              "      <td>-3.400000</td>\n",
              "      <td>92.201000</td>\n",
              "      <td>-50.800000</td>\n",
              "      <td>0.634000</td>\n",
              "      <td>4963.600000</td>\n",
              "    </tr>\n",
              "    <tr>\n",
              "      <th>25%</th>\n",
              "      <td>32.00000</td>\n",
              "      <td>102.000000</td>\n",
              "      <td>1.000000</td>\n",
              "      <td>999.000000</td>\n",
              "      <td>0.000000</td>\n",
              "      <td>-1.800000</td>\n",
              "      <td>93.075000</td>\n",
              "      <td>-42.700000</td>\n",
              "      <td>1.344000</td>\n",
              "      <td>5099.100000</td>\n",
              "    </tr>\n",
              "    <tr>\n",
              "      <th>50%</th>\n",
              "      <td>38.00000</td>\n",
              "      <td>180.000000</td>\n",
              "      <td>2.000000</td>\n",
              "      <td>999.000000</td>\n",
              "      <td>0.000000</td>\n",
              "      <td>1.100000</td>\n",
              "      <td>93.749000</td>\n",
              "      <td>-41.800000</td>\n",
              "      <td>4.857000</td>\n",
              "      <td>5191.000000</td>\n",
              "    </tr>\n",
              "    <tr>\n",
              "      <th>75%</th>\n",
              "      <td>47.00000</td>\n",
              "      <td>319.000000</td>\n",
              "      <td>3.000000</td>\n",
              "      <td>999.000000</td>\n",
              "      <td>0.000000</td>\n",
              "      <td>1.400000</td>\n",
              "      <td>93.994000</td>\n",
              "      <td>-36.400000</td>\n",
              "      <td>4.961000</td>\n",
              "      <td>5228.100000</td>\n",
              "    </tr>\n",
              "    <tr>\n",
              "      <th>max</th>\n",
              "      <td>98.00000</td>\n",
              "      <td>4918.000000</td>\n",
              "      <td>56.000000</td>\n",
              "      <td>999.000000</td>\n",
              "      <td>7.000000</td>\n",
              "      <td>1.400000</td>\n",
              "      <td>94.767000</td>\n",
              "      <td>-26.900000</td>\n",
              "      <td>5.045000</td>\n",
              "      <td>5228.100000</td>\n",
              "    </tr>\n",
              "  </tbody>\n",
              "</table>\n",
              "</div>"
            ],
            "text/plain": [
              "               age      duration  ...     euribor3m   nr.employed\n",
              "count  41188.00000  41188.000000  ...  41188.000000  41188.000000\n",
              "mean      40.02406    258.285010  ...      3.621291   5167.035911\n",
              "std       10.42125    259.279249  ...      1.734447     72.251528\n",
              "min       17.00000      0.000000  ...      0.634000   4963.600000\n",
              "25%       32.00000    102.000000  ...      1.344000   5099.100000\n",
              "50%       38.00000    180.000000  ...      4.857000   5191.000000\n",
              "75%       47.00000    319.000000  ...      4.961000   5228.100000\n",
              "max       98.00000   4918.000000  ...      5.045000   5228.100000\n",
              "\n",
              "[8 rows x 10 columns]"
            ]
          },
          "metadata": {},
          "execution_count": 6
        }
      ]
    },
    {
      "cell_type": "markdown",
      "metadata": {
        "id": "g0L7LJYASx4n"
      },
      "source": [
        "## 3. Visualize Data"
      ]
    },
    {
      "cell_type": "markdown",
      "metadata": {
        "id": "NyJSwKlTGHfP"
      },
      "source": [
        "#### Age Distribution"
      ]
    },
    {
      "cell_type": "code",
      "metadata": {
        "colab": {
          "base_uri": "https://localhost:8080/",
          "height": 408
        },
        "id": "AGP7MPe0DLJ8",
        "outputId": "805b5bca-fa3c-4798-f3b1-51fdbe4a916e"
      },
      "source": [
        "plt.figure(figsize=(9, 6))\n",
        "plt.xticks(np.arange(0, 110, 10))\n",
        "plt.yticks(np.arange(0, 14000, 2000))\n",
        "age_dist = df['age']\n",
        "plt.hist(x=age_dist, alpha=0.7, edgecolor='black')\n",
        "plt.xlabel('Age', fontsize=12)\n",
        "plt.ylabel('Number of Clients', fontsize=12)\n",
        "plt.title('Age Distribution of Clients', fontsize=14)\n",
        "plt.show()"
      ],
      "execution_count": 7,
      "outputs": [
        {
          "output_type": "display_data",
          "data": {
            "image/png": "[encoded data removed]",
            "text/plain": [
              "<Figure size 648x432 with 1 Axes>"
            ]
          },
          "metadata": {
            "needs_background": "light"
          }
        }
      ]
    },
    {
      "cell_type": "markdown",
      "metadata": {
        "id": "UumUSRbZ4zIx"
      },
      "source": [
        "#### Occupations of Clients"
      ]
    },
    {
      "cell_type": "code",
      "metadata": {
        "colab": {
          "base_uri": "https://localhost:8080/",
          "height": 458
        },
        "id": "pzkA6c0r45-a",
        "outputId": "663837d5-40ee-4806-88c6-7ab373d4086f"
      },
      "source": [
        "plt.figure(figsize=(8, 6))\n",
        "job_order = ['admin.','blue-collar','entrepreneur','housemaid','management',\n",
        "             'retired','self-employed','services','student','technician',\n",
        "             'unemployed','unknown']\n",
        "plt.xticks(rotation=50)\n",
        "plt.yticks(np.arange(0, 14000, 2000))\n",
        "sns.countplot(x=df['job'], order=job_order)\n",
        "plt.xlabel('Occupation', fontsize=12)\n",
        "plt.ylabel('Number of Clients', fontsize=12)\n",
        "plt.title('Occupations of Clients', fontsize=14)\n",
        "plt.show()"
      ],
      "execution_count": 8,
      "outputs": [
        {
          "output_type": "display_data",
          "data": {
            "image/png": "[encoded data removed]",
            "text/plain": [
              "<Figure size 576x432 with 1 Axes>"
            ]
          },
          "metadata": {
            "needs_background": "light"
          }
        }
      ]
    },
    {
      "cell_type": "markdown",
      "metadata": {
        "id": "h7dw-h0qJMS6"
      },
      "source": [
        "#### Education Levels"
      ]
    },
    {
      "cell_type": "code",
      "metadata": {
        "colab": {
          "base_uri": "https://localhost:8080/",
          "height": 479
        },
        "id": "mjUgceieJPK2",
        "outputId": "13269147-4780-4988-9694-ee6fff675ae0"
      },
      "source": [
        "plt.figure(figsize=(8, 6))\n",
        "plt.xticks(rotation=50)\n",
        "plt.yticks(np.arange(0, 14000, 2000))\n",
        "education_order = ['basic.4y', 'basic.6y', 'basic.9y', 'high.school', \n",
        "                   'professional.course', 'university.degree', 'illiterate',\n",
        "                   'unknown']\n",
        "gender_dist = df['education']\n",
        "gender_plot = sns.countplot(x=df['education'], order=education_order)\n",
        "plt.xlabel('Education Level', fontsize=12)\n",
        "plt.ylabel('Number of Clients', fontsize=12)\n",
        "plt.title('Education Levels of Bank Clients', fontsize=14)\n",
        "plt.show()"
      ],
      "execution_count": 9,
      "outputs": [
        {
          "output_type": "display_data",
          "data": {
            "image/png": "[encoded data removed]",
            "text/plain": [
              "<Figure size 576x432 with 1 Axes>"
            ]
          },
          "metadata": {
            "needs_background": "light"
          }
        }
      ]
    },
    {
      "cell_type": "markdown",
      "metadata": {
        "id": "fQrrlmrbfiu6"
      },
      "source": [
        "#### Marital Status"
      ]
    },
    {
      "cell_type": "code",
      "metadata": {
        "colab": {
          "base_uri": "https://localhost:8080/",
          "height": 408
        },
        "id": "VKc084C8fl2T",
        "outputId": "dd549f21-e22a-4952-a8f5-5a476c9ab7db"
      },
      "source": [
        "plt.figure(figsize=(8, 6))\n",
        "plt.yticks(np.arange(0, 28000, 2000))\n",
        "sns.countplot(x=df['marital'])\n",
        "plt.xlabel('Marital Status', fontsize=12)\n",
        "plt.ylabel('Number of Clients', fontsize=12)\n",
        "plt.title('Marital Status of Clients', fontsize=14)\n",
        "plt.show()"
      ],
      "execution_count": 10,
      "outputs": [
        {
          "output_type": "display_data",
          "data": {
            "image/png": "[encoded data removed]",
            "text/plain": [
              "<Figure size 576x432 with 1 Axes>"
            ]
          },
          "metadata": {
            "needs_background": "light"
          }
        }
      ]
    },
    {
      "cell_type": "markdown",
      "metadata": {
        "id": "44pETsAvpuDB"
      },
      "source": [
        "#### Types of Loans"
      ]
    },
    {
      "cell_type": "code",
      "metadata": {
        "colab": {
          "base_uri": "https://localhost:8080/",
          "height": 253
        },
        "id": "-4kePrvQpzJE",
        "outputId": "b896294e-a5ed-4006-df15-01bc2285f9c9"
      },
      "source": [
        "from collections import Counter\n",
        "\n",
        "# Default Loan\n",
        "loans = plt.figure(figsize=(15, 15))\n",
        "ax1 = loans.add_subplot(1, 3, 1)\n",
        "default_loan = Counter(df['default'])\n",
        "ax1 = plt.pie(x=[default_loan['no'], default_loan['unknown'], default_loan['yes']], \n",
        "              labels=default_loan.keys(), \n",
        "              autopct=\"%.2f%%\", pctdistance=0.5)\n",
        "plt.title('Default Loan', fontsize=14)\n",
        "\n",
        "# Housing Loan\n",
        "ax2 = loans.add_subplot(1, 3, 2)\n",
        "housing_loan = Counter(df['housing'])\n",
        "ax2 = plt.pie(x=[housing_loan['no'], housing_loan['unknown'], housing_loan['yes']], \n",
        "              labels=housing_loan.keys(), \n",
        "              autopct=\"%.2f%%\", pctdistance=0.5)\n",
        "plt.title('Housing Loan', fontsize=14)\n",
        "\n",
        "# Personal Loan\n",
        "ax3 = loans.add_subplot(1, 3, 3)\n",
        "personal_loan = Counter(df['loan'])\n",
        "ax2 = plt.pie(x=[personal_loan['no'], personal_loan['unknown'], personal_loan['yes']], \n",
        "              labels=personal_loan.keys(), \n",
        "              autopct=\"%.2f%%\", pctdistance=0.5)\n",
        "plt.title('Personal Loan', fontsize=14)\n",
        "\n",
        "plt.show()"
      ],
      "execution_count": 11,
      "outputs": [
        {
          "output_type": "display_data",
          "data": {
            "image/png": "[encoded data removed]",
            "text/plain": [
              "<Figure size 1080x1080 with 3 Axes>"
            ]
          },
          "metadata": {}
        }
      ]
    },
    {
      "cell_type": "code",
      "metadata": {
        "colab": {
          "base_uri": "https://localhost:8080/"
        },
        "id": "l_bGqfwrx39F",
        "outputId": "f1425056-c34a-46b7-a86f-697d32e6399d"
      },
      "source": [
        "print(default_loan)\n",
        "print(housing_loan)\n",
        "print(personal_loan)"
      ],
      "execution_count": 12,
      "outputs": [
        {
          "output_type": "stream",
          "name": "stdout",
          "text": [
            "Counter({'no': 32588, 'unknown': 8597, 'yes': 3})\n",
            "Counter({'yes': 21576, 'no': 18622, 'unknown': 990})\n",
            "Counter({'no': 33950, 'yes': 6248, 'unknown': 990})\n"
          ]
        }
      ]
    },
    {
      "cell_type": "markdown",
      "metadata": {
        "id": "0zZePuPq0eDY"
      },
      "source": [
        "#### Classication Results\n",
        "\n",
        "###### Has the client subscribed a term deposit?"
      ]
    },
    {
      "cell_type": "code",
      "metadata": {
        "colab": {
          "base_uri": "https://localhost:8080/",
          "height": 408
        },
        "id": "qJwBKdMp64Se",
        "outputId": "1664be3d-2432-40ff-f08d-e89f12dda7fb"
      },
      "source": [
        "plt.figure(figsize=(8, 6))\n",
        "plt.yticks(np.arange(0, 40000, 4000))\n",
        "sns.countplot(x=df['y'])\n",
        "plt.xlabel('Subscribed?', fontsize=12)\n",
        "plt.ylabel('Number of Clients', fontsize=12)\n",
        "plt.title('Classification Results', fontsize=14)\n",
        "plt.show()"
      ],
      "execution_count": 13,
      "outputs": [
        {
          "output_type": "display_data",
          "data": {
            "image/png": "[encoded data removed]",
            "text/plain": [
              "<Figure size 576x432 with 1 Axes>"
            ]
          },
          "metadata": {
            "needs_background": "light"
          }
        }
      ]
    },
    {
      "cell_type": "code",
      "metadata": {
        "colab": {
          "base_uri": "https://localhost:8080/",
          "height": 320
        },
        "id": "586InoseggBQ",
        "outputId": "20807949-adb9-402b-8f71-f1abaa2648e5"
      },
      "source": [
        "results_labels = ['no', 'yes']\n",
        "plt.figure(figsize=(5, 5))\n",
        "overall_results = Counter(df['y'])\n",
        "plt.pie(x=[overall_results['no'], overall_results['yes']], \n",
        "        labels=results_labels, autopct=\"%.2f%%\", pctdistance=0.5)\n",
        "plt.title('Overall Classification Results', fontsize=14)\n",
        "plt.show()"
      ],
      "execution_count": 14,
      "outputs": [
        {
          "output_type": "display_data",
          "data": {
            "image/png": "[encoded data removed]",
            "text/plain": [
              "<Figure size 360x360 with 1 Axes>"
            ]
          },
          "metadata": {}
        }
      ]
    },
    {
      "cell_type": "markdown",
      "metadata": {
        "id": "OepfTMjrlNYD"
      },
      "source": [
        "#### Correlation Map"
      ]
    },
    {
      "cell_type": "code",
      "metadata": {
        "colab": {
          "base_uri": "https://localhost:8080/",
          "height": 763
        },
        "id": "JkHBy9_OeE2j",
        "outputId": "07336d1c-7fc8-4f31-f608-d71f5c054e35"
      },
      "source": [
        "plt.figure(figsize=(12,12))\n",
        "sns.heatmap(df.corr(), cmap='YlGnBu', annot=True, fmt = \".2f\")\n",
        "plt.xticks(rotation=45)\n",
        "plt.yticks(rotation=0)\n",
        "plt.title('Correlation Map')\n",
        "plt.show()"
      ],
      "execution_count": 15,
      "outputs": [
        {
          "output_type": "display_data",
          "data": {
            "image/png": "[encoded data removed]",
            "text/plain": [
              "<Figure size 864x864 with 2 Axes>"
            ]
          },
          "metadata": {
            "needs_background": "light"
          }
        }
      ]
    },
    {
      "cell_type": "markdown",
      "metadata": {
        "id": "91jMLTuvaU_Q"
      },
      "source": [
        "## 4. Data Preprocessing and Feature Engineering"
      ]
    },
    {
      "cell_type": "code",
      "metadata": {
        "colab": {
          "base_uri": "https://localhost:8080/"
        },
        "id": "NRfW8j3Jqq6q",
        "outputId": "d96bded6-cae1-4c2c-9e5d-4e613353f4d0"
      },
      "source": [
        "# Categorical Columns (indices) - [1:9]\n",
        "from sklearn.preprocessing import LabelEncoder\n",
        "\n",
        "le = LabelEncoder()\n",
        "# le_columns = X[:, [1, 2, 3, 4, 5, 6, 7, 8, 9, 14]]\n",
        "\n",
        "# for i in X[:]:\n",
        "#   if i in le_columns:\n",
        "#     X[:, i] = le.fit_transform(X[:, i])\n",
        "\n",
        "X[:, 1] = le.fit_transform(X[:, 1])\n",
        "X[:, 2] = le.fit_transform(X[:, 2])\n",
        "X[:, 3] = le.fit_transform(X[:, 3])\n",
        "X[:, 4] = le.fit_transform(X[:, 4])\n",
        "X[:, 5] = le.fit_transform(X[:, 5])\n",
        "X[:, 6] = le.fit_transform(X[:, 6])\n",
        "X[:, 7] = le.fit_transform(X[:, 7])\n",
        "X[:, 8] = le.fit_transform(X[:, 8])\n",
        "X[:, 9] = le.fit_transform(X[:, 9])\n",
        "X[:, 14] = le.fit_transform(X[:, 14])\n",
        "y = le.fit_transform(y)\n",
        "\n",
        "print(X[:, 1:14])\n",
        "print(y)"
      ],
      "execution_count": 16,
      "outputs": [
        {
          "output_type": "stream",
          "name": "stdout",
          "text": [
            "[[3 1 0 ... 1 999 0]\n",
            " [7 1 3 ... 1 999 0]\n",
            " [7 1 3 ... 1 999 0]\n",
            " ...\n",
            " [5 1 6 ... 2 999 0]\n",
            " [9 1 5 ... 1 999 0]\n",
            " [5 1 5 ... 3 999 1]]\n",
            "[0 0 0 ... 0 1 0]\n"
          ]
        }
      ]
    },
    {
      "cell_type": "code",
      "metadata": {
        "id": "HVDtA_UylPEp"
      },
      "source": [
        "# Split dataframe (df) into training and test sets\n",
        "from sklearn.model_selection import train_test_split\n",
        "\n",
        "X_train, X_test, y_train, y_test = train_test_split(X, y, test_size=0.2, \n",
        "                                                    random_state=0)"
      ],
      "execution_count": 17,
      "outputs": []
    },
    {
      "cell_type": "code",
      "metadata": {
        "id": "buM5XRz9lS3n"
      },
      "source": [
        "# Feature Scale numerical columns\n",
        "from sklearn.preprocessing import StandardScaler, MinMaxScaler\n",
        "\n",
        "numerical_columns = [0, 10, 11, 12, 13, 15, 16, 17, 18, 19]\n",
        "sc = StandardScaler()\n",
        "X_train[:, numerical_columns] = sc.fit_transform(X_train[:, numerical_columns])\n",
        "X_test[:, numerical_columns] = sc.transform(X_test[:, numerical_columns])"
      ],
      "execution_count": 18,
      "outputs": []
    },
    {
      "cell_type": "code",
      "metadata": {
        "colab": {
          "base_uri": "https://localhost:8080/"
        },
        "id": "jbOzYcSJ1YUW",
        "outputId": "0c2d75b9-84fc-45eb-f394-d319e8bb6226"
      },
      "source": [
        "from sklearn.feature_selection import VarianceThreshold, SelectKBest, f_classif\n",
        "\n",
        "print(\"Original feature shape:\", X.shape)\n",
        "# Min Threshold = 0.13\n",
        "selector = VarianceThreshold(threshold=0.13)\n",
        "X_new = selector.fit_transform(X)\n",
        "fs = SelectKBest(score_func = f_classif, k = 10)\n",
        "X_selected = fs.fit_transform(X, y)\n",
        "print(\"New feature shape:\", X_new.shape)\n",
        "print('X_selected shape:', X_selected.shape)"
      ],
      "execution_count": 19,
      "outputs": [
        {
          "output_type": "stream",
          "name": "stdout",
          "text": [
            "Original feature shape: (41188, 20)\n",
            "New feature shape: (41188, 20)\n",
            "X_selected shape: (41188, 10)\n"
          ]
        }
      ]
    },
    {
      "cell_type": "markdown",
      "metadata": {
        "id": "wSYVbECkakwm"
      },
      "source": [
        "## 5. Define and Evalutate Models"
      ]
    },
    {
      "cell_type": "code",
      "metadata": {
        "id": "f0TXcf2dklHZ"
      },
      "source": [
        "# Logistic Regression\n",
        "from sklearn.linear_model import LogisticRegression\n",
        "# Decision Tree\n",
        "from sklearn.tree import DecisionTreeClassifier\n",
        "# Random Forest\n",
        "from sklearn.ensemble import RandomForestClassifier\n",
        "# XGBoost\n",
        "import xgboost as xgb\n",
        "from xgboost import XGBClassifier\n",
        "# LightGBM\n",
        "import lightgbm as lgb\n",
        "from lightgbm import LGBMClassifier\n",
        "\n",
        "# Additional Libraries\n",
        "from sklearn.metrics import confusion_matrix, classification_report\n",
        "from sklearn.metrics import accuracy_score, roc_auc_score\n",
        "from sklearn.model_selection import cross_val_score, RepeatedStratifiedKFold\n",
        "from sklearn.model_selection import GridSearchCV\n",
        "from sklearn.feature_selection import SelectKBest, f_classif\n",
        "from sklearn.pipeline import make_pipeline"
      ],
      "execution_count": 20,
      "outputs": []
    },
    {
      "cell_type": "markdown",
      "metadata": {
        "id": "TMZZl5-LkYMx"
      },
      "source": [
        "### Logistic Regression (LR)"
      ]
    },
    {
      "cell_type": "code",
      "metadata": {
        "colab": {
          "base_uri": "https://localhost:8080/"
        },
        "id": "1JIrlzeenbG8",
        "outputId": "e132b28b-fd50-4092-9225-6806dd8a45e2"
      },
      "source": [
        "# Accuracy Scoring\n",
        "lr_model = LogisticRegression(C=0.08, class_weight='dict', penalty='l2', \n",
        "                         random_state=0)\n",
        "\n",
        "# ROC_AUC Scoring\n",
        "# lr_model = LogisticRegression(C=1.1, class_weight='balanced', penalty='l2', \n",
        "#                          random_state=0)\n",
        "\n",
        "# Train LR model\n",
        "lr_model.fit(X_train, y_train)"
      ],
      "execution_count": 21,
      "outputs": [
        {
          "output_type": "stream",
          "name": "stderr",
          "text": [
            "/usr/local/lib/python3.7/dist-packages/sklearn/linear_model/_logistic.py:940: ConvergenceWarning: lbfgs failed to converge (status=1):\n",
            "STOP: TOTAL NO. of ITERATIONS REACHED LIMIT.\n",
            "\n",
            "Increase the number of iterations (max_iter) or scale the data as shown in:\n",
            "    https://scikit-learn.org/stable/modules/preprocessing.html\n",
            "Please also refer to the documentation for alternative solver options:\n",
            "    https://scikit-learn.org/stable/modules/linear_model.html#logistic-regression\n",
            "  extra_warning_msg=_LOGISTIC_SOLVER_CONVERGENCE_MSG)\n"
          ]
        },
        {
          "output_type": "execute_result",
          "data": {
            "text/plain": [
              "LogisticRegression(C=0.08, class_weight='dict', dual=False, fit_intercept=True,\n",
              "                   intercept_scaling=1, l1_ratio=None, max_iter=100,\n",
              "                   multi_class='auto', n_jobs=None, penalty='l2',\n",
              "                   random_state=0, solver='lbfgs', tol=0.0001, verbose=0,\n",
              "                   warm_start=False)"
            ]
          },
          "metadata": {},
          "execution_count": 21
        }
      ]
    },
    {
      "cell_type": "code",
      "metadata": {
        "colab": {
          "base_uri": "https://localhost:8080/",
          "height": 616
        },
        "id": "bmYF4YV58JwC",
        "outputId": "dc03bece-3898-4952-fc68-5b4ac9b45742"
      },
      "source": [
        "# Summarize feature importance\n",
        "lr_importance = lr_model.coef_[0]\n",
        "for i, v in enumerate(lr_importance):\n",
        "  print('Feature: %0d, Score: %.5f' % (i,v))\n",
        "plt.bar([x for x in range(len(lr_importance))], lr_importance)\n",
        "plt.show()\n",
        "\n",
        "# fs = SelectKBest(score_func=f_classif, k=2)\n",
        "# X_selected = fs.fit_transform(X, y)\n",
        "# anova_fs = make_pipeline(fs, lr_model)\n",
        "# anova_fs.fit(X_train, y_train)\n",
        "# print(X_selected.shape)"
      ],
      "execution_count": 22,
      "outputs": [
        {
          "output_type": "stream",
          "name": "stdout",
          "text": [
            "Feature: 0, Score: 0.04672\n",
            "Feature: 1, Score: 0.00592\n",
            "Feature: 2, Score: 0.08898\n",
            "Feature: 3, Score: 0.05036\n",
            "Feature: 4, Score: -0.34782\n",
            "Feature: 5, Score: -0.00571\n",
            "Feature: 6, Score: -0.03168\n",
            "Feature: 7, Score: -0.67350\n",
            "Feature: 8, Score: -0.10434\n",
            "Feature: 9, Score: 0.05790\n",
            "Feature: 10, Score: 1.16208\n",
            "Feature: 11, Score: -0.09244\n",
            "Feature: 12, Score: -0.22252\n",
            "Feature: 13, Score: -0.05138\n",
            "Feature: 14, Score: 0.37091\n",
            "Feature: 15, Score: -1.18823\n",
            "Feature: 16, Score: 0.45923\n",
            "Feature: 17, Score: 0.15802\n",
            "Feature: 18, Score: 0.56094\n",
            "Feature: 19, Score: -0.68167\n"
          ]
        },
        {
          "output_type": "display_data",
          "data": {
            "image/png": "[encoded data removed]",
            "text/plain": [
              "<Figure size 432x288 with 1 Axes>"
            ]
          },
          "metadata": {
            "needs_background": "light"
          }
        }
      ]
    },
    {
      "cell_type": "code",
      "metadata": {
        "colab": {
          "base_uri": "https://localhost:8080/"
        },
        "id": "eL1C6hf1nfPN",
        "outputId": "ff878cd8-3735-41c7-a360-bfaea0a18ef9"
      },
      "source": [
        "# Predict test set results\n",
        "# If lr_pred > 0.5, client has subscribed to a term deposit\n",
        "lr_pred = lr_model.predict(X_test)\n",
        "lr_pred = (lr_pred > 0.5)\n",
        "print('lr_pred: y_test:')\n",
        "print(np.concatenate((lr_pred.reshape(len(lr_pred), 1), y_test.reshape(len(y_test), 1)), 1 ))\n",
        "print('')\n",
        "\n",
        "# Create the confusion matrix\n",
        "# TN = cm[0][0]  # True Negative\n",
        "# FP = cm[0][1]  # False Positive\n",
        "# FN = cm[1][0]  # False Negative\n",
        "# TP = cm[1][1]  # True Positive\n",
        "print('Confusion Matrix: ')\n",
        "cm = confusion_matrix(y_test, lr_pred)\n",
        "print(cm)\n",
        "print('')\n",
        "print(\"Test Accuracy: %.3f%% \" % (accuracy_score(y_test, lr_pred) * 100))\n",
        "# print(\"ROC_AUC: %.3f%% \" % (roc_auc_score(y_test, lr_pred) * 100))\n",
        "print('')\n",
        "\n",
        "# accuracy = (TP + TN)/(TN + FP + FN + TP)\n",
        "# precision = TP/(TP + FP)\n",
        "# recall = TP/(TP + FN)\n",
        "# f1_score = (2 * precision * recall)/(precision + recall)\n",
        "# support = Number of occurrences of each class in lr_pred\n",
        "print('Classification Report: ')\n",
        "print(classification_report(y_test, lr_pred))"
      ],
      "execution_count": 23,
      "outputs": [
        {
          "output_type": "stream",
          "name": "stdout",
          "text": [
            "lr_pred: y_test:\n",
            "[[0 1]\n",
            " [0 0]\n",
            " [0 0]\n",
            " ...\n",
            " [1 1]\n",
            " [0 0]\n",
            " [0 0]]\n",
            "\n",
            "Confusion Matrix: \n",
            "[[7126  193]\n",
            " [ 500  419]]\n",
            "\n",
            "Test Accuracy: 91.588% \n",
            "\n",
            "Classification Report: \n",
            "              precision    recall  f1-score   support\n",
            "\n",
            "           0       0.93      0.97      0.95      7319\n",
            "           1       0.68      0.46      0.55       919\n",
            "\n",
            "    accuracy                           0.92      8238\n",
            "   macro avg       0.81      0.71      0.75      8238\n",
            "weighted avg       0.91      0.92      0.91      8238\n",
            "\n"
          ]
        }
      ]
    },
    {
      "cell_type": "code",
      "metadata": {
        "colab": {
          "base_uri": "https://localhost:8080/"
        },
        "id": "1p7ty0SOnjH9",
        "outputId": "b4b2e4d4-379b-4be8-ce49-4c484dc4bf5b"
      },
      "source": [
        "# Apply k-Fold Cross Validation on the training set\n",
        "cv = RepeatedStratifiedKFold(n_splits = 10, n_repeats = 3, random_state = 0)\n",
        "scores = cross_val_score(lr_model, X_train, y_train, scoring='accuracy', cv=cv, n_jobs=-1)\n",
        "# scores = cross_val_score(lr_model, X_train, y_train, scoring='roc_auc', cv=cv, n_jobs=-1)\n",
        "\n",
        "# Force scores to be positive\n",
        "scores = abs(scores)\n",
        "print(\"Mean Accuracy: %.3f%%\" % (np.mean(scores) * 100))\n",
        "print(\"Standard Deviation: %.3f%%\" % np.std(scores))\n",
        "print(\"Min Accuracy: %.3f%%\" % (np.min(scores) * 100))\n",
        "print(\"Max Accuracy: %.3f%%\" % (np.max(scores) * 100))"
      ],
      "execution_count": 24,
      "outputs": [
        {
          "output_type": "stream",
          "name": "stdout",
          "text": [
            "Mean Accuracy: 90.945%\n",
            "Standard Deviation: 0.004%\n",
            "Min Accuracy: 90.015%\n",
            "Max Accuracy: 91.654%\n"
          ]
        }
      ]
    },
    {
      "cell_type": "markdown",
      "metadata": {
        "id": "NyxmxSYinlKq"
      },
      "source": [
        "<table border = \"1\">\n",
        "  <thead>\n",
        "    <th colspan = \"3\">Logistic Regression Cross-Validation Results</th>\n",
        "  </thead>\n",
        "  <tbody>\n",
        "    <tr>\n",
        "      <td><b></b></td>\n",
        "      <td><b>Accuracy</b></td>\n",
        "      <td><b>ROC_AUC</b></td>\n",
        "    </tr>\n",
        "    <tr>\n",
        "      <td><b>Mean</b></td>\n",
        "      <td>90.945%</td>\n",
        "      <td>93.110%</td>\n",
        "    </tr>\n",
        "    <tr>\n",
        "      <td><b>Std.</b></td>\n",
        "      <td>0.004%</td>\n",
        "      <td>0.005%</td>\n",
        "    </tr>\n",
        "    <tr>\n",
        "      <td><b>Min</b></td>\n",
        "      <td>90.015%</td>\n",
        "      <td>92.168%</td>\n",
        "    </tr>\n",
        "    <tr>\n",
        "      <td><b>Max</b></td>\n",
        "      <td>91.654%</td>\n",
        "      <td>93.967%</td>\n",
        "    </tr>\n",
        "  </tbody>\n",
        "</table>"
      ]
    },
    {
      "cell_type": "code",
      "metadata": {
        "colab": {
          "base_uri": "https://localhost:8080/"
        },
        "id": "KcT91GeLnpt1",
        "outputId": "f2444383-e17f-4301-baa9-46cb479f1609"
      },
      "source": [
        "# Apply Grid Search for parameter tuning\n",
        "\n",
        "# lr_grid = {'C': [0.1, 0.2, 0.25, 0.4, 0.5, 0.75, 0.9, 1],\n",
        "#            'penalty': ['l1', 'l2'],\n",
        "#            'class_weight': ['dict', 'balanced'],\n",
        "#            'random_state': [0, 1]}\n",
        "\n",
        "# Accuracy scoring\n",
        "lr_grid = {'C': [0.08],\n",
        "           'penalty': ['l2'],\n",
        "           'class_weight': ['dict'],\n",
        "           'random_state': [0, 1]}\n",
        "\n",
        "# ROC_AUC scoring\n",
        "# lr_grid = {'C': [1.09, 1.1, 1.11],\n",
        "#            'penalty': ['l2'],\n",
        "#            'class_weight': ['balanced'],\n",
        "#            'random_state': [0, 1]}\n",
        "\n",
        "lr_grid = GridSearchCV(lr_model, lr_grid, scoring='accuracy', cv=cv, n_jobs=-1)\n",
        "# lr_grid = GridSearchCV(lr_model, lr_grid, scoring='roc_auc', cv=cv, n_jobs=-1)\n",
        "results = lr_grid.fit(X_train, y_train)\n",
        "\n",
        "# Summarize results\n",
        "best_score = lr_grid.best_score_\n",
        "best_parameters = lr_grid.best_params_\n",
        "print(\"Best Score: %.3f%%\" % (best_score * 100))\n",
        "print(\"Best Parameters: \", best_parameters)"
      ],
      "execution_count": 25,
      "outputs": [
        {
          "output_type": "stream",
          "name": "stdout",
          "text": [
            "Best Score: 90.945%\n",
            "Best Parameters:  {'C': 0.08, 'class_weight': 'dict', 'penalty': 'l2', 'random_state': 0}\n"
          ]
        },
        {
          "output_type": "stream",
          "name": "stderr",
          "text": [
            "/usr/local/lib/python3.7/dist-packages/sklearn/linear_model/_logistic.py:940: ConvergenceWarning: lbfgs failed to converge (status=1):\n",
            "STOP: TOTAL NO. of ITERATIONS REACHED LIMIT.\n",
            "\n",
            "Increase the number of iterations (max_iter) or scale the data as shown in:\n",
            "    https://scikit-learn.org/stable/modules/preprocessing.html\n",
            "Please also refer to the documentation for alternative solver options:\n",
            "    https://scikit-learn.org/stable/modules/linear_model.html#logistic-regression\n",
            "  extra_warning_msg=_LOGISTIC_SOLVER_CONVERGENCE_MSG)\n"
          ]
        }
      ]
    },
    {
      "cell_type": "markdown",
      "metadata": {
        "id": "MK1Ets9YoS5J"
      },
      "source": [
        "<table border = \"1\">\n",
        "  <thead>\n",
        "    <th colspan = \"3\">Logistic Regression Grid Search Results</th>\n",
        "  </thead>\n",
        "  <tbody>\n",
        "    <tr>\n",
        "      <td><b></b></td>\n",
        "      <td><b>Accuracy</b></td>\n",
        "      <td><b>ROC_AUC</b></td>\n",
        "    </tr>\n",
        "    <tr>\n",
        "      <td><b>Best Score</b></td>\n",
        "      <td>90.945%</td>\n",
        "      <td>93.110%</td>\n",
        "    </tr>\n",
        "    <tr>\n",
        "      <td colspan=\"3\"><b>Best Parameters:</b></td>\n",
        "    </tr>\n",
        "    <tr>\n",
        "      <td><b>C</b></td>\n",
        "      <td>0.08</td>\n",
        "      <td>1.1</td>\n",
        "    </tr>\n",
        "    <tr>\n",
        "      <td><b>class_weight</b></td>\n",
        "      <td>'dict'</td>\n",
        "      <td>'balanced'</td>\n",
        "    </tr>\n",
        "    <tr>\n",
        "      <td><b>penalty</b></td>\n",
        "      <td>'l2'</td>\n",
        "      <td>'l2'</td>\n",
        "    </tr>\n",
        "    <tr>\n",
        "      <td><b>random_state</b></td>\n",
        "      <td>0</td>\n",
        "      <td>0</td>\n",
        "    </tr>\n",
        "  </tbody>\n",
        "</table>\n"
      ]
    },
    {
      "cell_type": "markdown",
      "metadata": {
        "id": "XJ-wQwibkPrU"
      },
      "source": [
        "### Decision Tree (DT)"
      ]
    },
    {
      "cell_type": "code",
      "metadata": {
        "colab": {
          "base_uri": "https://localhost:8080/"
        },
        "id": "dD2I3unlmYbB",
        "outputId": "cebabb94-a175-4fee-c17c-d5a9b2f9ce73"
      },
      "source": [
        "# Accuracy Scoring\n",
        "dt_model = DecisionTreeClassifier(criterion='entropy', max_depth=6, \n",
        "                             min_samples_leaf=3, min_samples_split=2, \n",
        "                             random_state=4)\n",
        "\n",
        "# ROC_AUC Scoring\n",
        "# dt_model = DecisionTreeClassifier(criterion='entropy', max_depth=6, \n",
        "#                              min_samples_leaf=18, min_samples_split=2, \n",
        "#                              random_state=0)\n",
        "\n",
        "# Train DT Model\n",
        "dt_model.fit(X_train, y_train)"
      ],
      "execution_count": 26,
      "outputs": [
        {
          "output_type": "execute_result",
          "data": {
            "text/plain": [
              "DecisionTreeClassifier(ccp_alpha=0.0, class_weight=None, criterion='entropy',\n",
              "                       max_depth=6, max_features=None, max_leaf_nodes=None,\n",
              "                       min_impurity_decrease=0.0, min_impurity_split=None,\n",
              "                       min_samples_leaf=3, min_samples_split=2,\n",
              "                       min_weight_fraction_leaf=0.0, presort='deprecated',\n",
              "                       random_state=4, splitter='best')"
            ]
          },
          "metadata": {},
          "execution_count": 26
        }
      ]
    },
    {
      "cell_type": "code",
      "metadata": {
        "colab": {
          "base_uri": "https://localhost:8080/",
          "height": 616
        },
        "id": "OSLPDleWis0C",
        "outputId": "d344caa5-0eae-4012-ea66-5d34588d978c"
      },
      "source": [
        "# Summarize feature importance\n",
        "dt_importance = dt_model.feature_importances_\n",
        "for i, v in enumerate(dt_importance):\n",
        "  print('Feature: %0d, Score: %.5f' % (i,v))\n",
        "plt.bar([x for x in range(len(dt_importance))], dt_importance)\n",
        "plt.show()"
      ],
      "execution_count": 27,
      "outputs": [
        {
          "output_type": "stream",
          "name": "stdout",
          "text": [
            "Feature: 0, Score: 0.00142\n",
            "Feature: 1, Score: 0.00111\n",
            "Feature: 2, Score: 0.00000\n",
            "Feature: 3, Score: 0.00123\n",
            "Feature: 4, Score: 0.00178\n",
            "Feature: 5, Score: 0.00031\n",
            "Feature: 6, Score: 0.00000\n",
            "Feature: 7, Score: 0.00130\n",
            "Feature: 8, Score: 0.01975\n",
            "Feature: 9, Score: 0.00936\n",
            "Feature: 10, Score: 0.49463\n",
            "Feature: 11, Score: 0.00127\n",
            "Feature: 12, Score: 0.02588\n",
            "Feature: 13, Score: 0.00113\n",
            "Feature: 14, Score: 0.00000\n",
            "Feature: 15, Score: 0.00058\n",
            "Feature: 16, Score: 0.01757\n",
            "Feature: 17, Score: 0.08886\n",
            "Feature: 18, Score: 0.03234\n",
            "Feature: 19, Score: 0.30149\n"
          ]
        },
        {
          "output_type": "display_data",
          "data": {
            "image/png": "[encoded data removed]",
            "text/plain": [
              "<Figure size 432x288 with 1 Axes>"
            ]
          },
          "metadata": {
            "needs_background": "light"
          }
        }
      ]
    },
    {
      "cell_type": "code",
      "metadata": {
        "colab": {
          "base_uri": "https://localhost:8080/"
        },
        "id": "t2cyyfZRmoDT",
        "outputId": "d0bb74a5-2248-41d5-b085-8f33c700f215"
      },
      "source": [
        "# Predict test set results\n",
        "# If dt_pred > 0.5, client has subscribed to a term deposit\n",
        "dt_pred = dt_model.predict(X_test)\n",
        "dt_pred = (dt_pred > 0.5)\n",
        "print('dt_pred: y_test:')\n",
        "print(np.concatenate((dt_pred.reshape(len(dt_pred), 1), y_test.reshape(len(y_test), 1)), 1 ))\n",
        "print('')\n",
        "\n",
        "# Create the confusion matrix\n",
        "# TN = cm[0][0]  # True Negative\n",
        "# FP = cm[0][1]  # False Positive\n",
        "# FN = cm[1][0]  # False Negative\n",
        "# TP = cm[1][1]  # True Positive\n",
        "print('Confusion Matrix: ')\n",
        "cm = confusion_matrix(y_test, dt_pred)\n",
        "print(cm)\n",
        "print('')\n",
        "print(\"Test Accuracy: %.3f%% \" % (accuracy_score(y_test, dt_pred) * 100))\n",
        "# print(\"ROC_AUC: %.3f%% \" % (roc_auc_score(y_test, dt_pred) * 100))\n",
        "print('')\n",
        "\n",
        "# accuracy = (TP + TN)/(TN + FP + FN + TP)\n",
        "# precision = TP/(TP + FP)\n",
        "# recall = TP/(TP + FN)\n",
        "# f1_score = (2 * precision * recall)/(precision + recall)\n",
        "# support = Number of occurrences of each class in dt_pred\n",
        "print('Classification Report: ')\n",
        "print(classification_report(y_test, dt_pred))"
      ],
      "execution_count": 28,
      "outputs": [
        {
          "output_type": "stream",
          "name": "stdout",
          "text": [
            "dt_pred: y_test:\n",
            "[[0 1]\n",
            " [0 0]\n",
            " [0 0]\n",
            " ...\n",
            " [1 1]\n",
            " [0 0]\n",
            " [0 0]]\n",
            "\n",
            "Confusion Matrix: \n",
            "[[7095  224]\n",
            " [ 443  476]]\n",
            "\n",
            "Test Accuracy: 91.903% \n",
            "\n",
            "Classification Report: \n",
            "              precision    recall  f1-score   support\n",
            "\n",
            "           0       0.94      0.97      0.96      7319\n",
            "           1       0.68      0.52      0.59       919\n",
            "\n",
            "    accuracy                           0.92      8238\n",
            "   macro avg       0.81      0.74      0.77      8238\n",
            "weighted avg       0.91      0.92      0.91      8238\n",
            "\n"
          ]
        }
      ]
    },
    {
      "cell_type": "code",
      "metadata": {
        "colab": {
          "base_uri": "https://localhost:8080/"
        },
        "id": "XEh1RpQNmqZN",
        "outputId": "083af967-9b64-4fd3-f1b9-6b07d6fbc402"
      },
      "source": [
        "# Apply k-Fold Cross Validation on the training set\n",
        "cv = RepeatedStratifiedKFold(n_splits = 10, n_repeats = 3, random_state = 0)\n",
        "scores = cross_val_score(dt_model, X_train, y_train, scoring='accuracy', cv=cv, n_jobs=-1)\n",
        "# scores = cross_val_score(dt_model, X_train, y_train, scoring='roc_auc', cv=cv, n_jobs=-1)\n",
        "\n",
        "# Force scores to be positive\n",
        "scores = abs(scores)\n",
        "print(\"Mean Accuracy: %.3f%%\" % (np.mean(scores) * 100))\n",
        "print(\"Standard Deviation: %.3f%%\" % np.std(scores))\n",
        "print(\"Min Accuracy: %.3f%%\" % (np.min(scores) * 100))\n",
        "print(\"Max Accuracy: %.3f%%\" % (np.max(scores) * 100))"
      ],
      "execution_count": 29,
      "outputs": [
        {
          "output_type": "stream",
          "name": "stdout",
          "text": [
            "Mean Accuracy: 91.392%\n",
            "Standard Deviation: 0.004%\n",
            "Min Accuracy: 90.501%\n",
            "Max Accuracy: 92.170%\n"
          ]
        }
      ]
    },
    {
      "cell_type": "markdown",
      "metadata": {
        "id": "QFJ-AJOcm7fP"
      },
      "source": [
        "<table border = \"1\">\n",
        "  <thead>\n",
        "    <th colspan = \"3\">Decision Tree Cross-Validation Results</th>\n",
        "  </thead>\n",
        "  <tbody>\n",
        "    <tr>\n",
        "      <td><b></b></td>\n",
        "      <td><b>Accuracy</b></td>\n",
        "      <td><b>ROC_AUC</b></td>\n",
        "    </tr>\n",
        "    <tr>\n",
        "      <td><b>Mean</b></td>\n",
        "      <td>91.392%</td>\n",
        "      <td>93.575%</td>\n",
        "    </tr>\n",
        "    <tr>\n",
        "      <td><b>Std.</b></td>\n",
        "      <td>0.004%</td>\n",
        "      <td>0.006%</td>\n",
        "    </tr>\n",
        "    <tr>\n",
        "      <td><b>Min</b></td>\n",
        "      <td>90.501%</td>\n",
        "      <td>91.603%</td>\n",
        "    </tr>\n",
        "    <tr>\n",
        "      <td><b>Max</b></td>\n",
        "      <td>92.170%</td>\n",
        "      <td>94.683%</td>\n",
        "    </tr>\n",
        "  </tbody>\n",
        "</table>"
      ]
    },
    {
      "cell_type": "code",
      "metadata": {
        "colab": {
          "base_uri": "https://localhost:8080/"
        },
        "id": "Gy5W6MOWmtPv",
        "outputId": "4fdb5d26-17fe-46fb-f9e8-775ea289ed72"
      },
      "source": [
        "# Apply Grid Search for parameter tuning\n",
        "\n",
        "# dt_grid = {'criterion': ['gini', 'entropy'],\n",
        "#            'max_depth': [5, 10, 25, 50],\n",
        "#            'min_samples_leaf': [2, 5, 10],\n",
        "#            'min_samples_split': [2, 5, 10],\n",
        "#            'random_state': [0, 1, 2]}\n",
        "\n",
        "# Accuracy scoring\n",
        "dt_grid = {'criterion': ['entropy'],\n",
        "           'max_depth': [6],\n",
        "           'min_samples_leaf': [2, 3],\n",
        "           'min_samples_split': [2, 3],\n",
        "           'random_state': [2, 3, 4]}\n",
        "\n",
        "# ROC_AUC scoring\n",
        "# dt_grid = {'criterion': ['entropy'],\n",
        "#            'max_depth': [6],\n",
        "#            'min_samples_leaf': [18],\n",
        "#            'min_samples_split': [2],\n",
        "#            'random_state': [0, 1]}\n",
        "\n",
        "dt_grid = GridSearchCV(dt_model, dt_grid, scoring='accuracy', cv=cv, n_jobs=-1)\n",
        "# dt_grid = GridSearchCV(dt_model, dt_grid, scoring='roc_auc', cv=cv, n_jobs=-1)\n",
        "results = dt_grid.fit(X_train, y_train)\n",
        "\n",
        "# Summarize results\n",
        "best_score = dt_grid.best_score_\n",
        "best_parameters = dt_grid.best_params_\n",
        "print(\"Best Score: %.3f%%\" % (best_score * 100))\n",
        "print(\"Best Parameters: \", best_parameters)"
      ],
      "execution_count": 30,
      "outputs": [
        {
          "output_type": "stream",
          "name": "stdout",
          "text": [
            "Best Score: 91.392%\n",
            "Best Parameters:  {'criterion': 'entropy', 'max_depth': 6, 'min_samples_leaf': 3, 'min_samples_split': 2, 'random_state': 3}\n"
          ]
        }
      ]
    },
    {
      "cell_type": "markdown",
      "metadata": {
        "id": "KJLWzXhsnCs4"
      },
      "source": [
        "<table border = \"1\">\n",
        "  <thead>\n",
        "    <th colspan = \"3\">Decision Tree Grid Search Results</th>\n",
        "  </thead>\n",
        "  <tbody>\n",
        "    <tr>\n",
        "      <td><b></b></td>\n",
        "      <td><b>Accuracy</b></td>\n",
        "      <td><b>ROC_AUC</b></td>\n",
        "    </tr>\n",
        "    <tr>\n",
        "      <td><b>Best Score</b></td>\n",
        "      <td>91.392%</td>\n",
        "      <td>93.575%</td>\n",
        "    </tr>\n",
        "    <tr>\n",
        "      <td colspan=\"3\"><b>Best Parameters:</b></td>\n",
        "    </tr>\n",
        "    <tr>\n",
        "      <td><b>criterion</b></td>\n",
        "      <td>'entropy'</td>\n",
        "      <td>'entropy'</td>\n",
        "    </tr>\n",
        "    <tr>\n",
        "      <td><b>max_depth</b></td>\n",
        "      <td>6</td>\n",
        "      <td>6</td>\n",
        "    </tr>\n",
        "    <tr>\n",
        "      <td><b>min_samples_leaf</b></td>\n",
        "      <td>3</td>\n",
        "      <td>18</td>\n",
        "    </tr>\n",
        "    <tr>\n",
        "      <td><b>min_samples_split</b></td>\n",
        "      <td>2</td>\n",
        "      <td>2</td>\n",
        "    </tr>\n",
        "    <tr>\n",
        "      <td><b>random_state</b></td>\n",
        "      <td>3</td>\n",
        "      <td>0</td>\n",
        "    </tr>\n",
        "  </tbody>\n",
        "</table>"
      ]
    },
    {
      "cell_type": "markdown",
      "metadata": {
        "id": "R0zI1XtnkS_c"
      },
      "source": [
        "### Random Forest (RF)"
      ]
    },
    {
      "cell_type": "code",
      "metadata": {
        "colab": {
          "base_uri": "https://localhost:8080/"
        },
        "id": "s_cX-xjYpQlB",
        "outputId": "43c31952-21c6-4e2c-b76a-c7148fe29351"
      },
      "source": [
        "# Accuracy Scoring\n",
        "rf_model = RandomForestClassifier(criterion='gini', max_depth=60, n_estimators=270,\n",
        "                             min_samples_leaf=6, min_samples_split=9, \n",
        "                             max_samples=0.8, random_state=2)\n",
        "\n",
        "# ROC_AUC Scoring\n",
        "# rf_model = RandomForestClassifier(criterion='entropy', max_depth=13, \n",
        "#                              n_estimators=149, min_samples_leaf=6, \n",
        "#                              min_samples_split=3, max_samples=0.8, \n",
        "#                              random_state=0)\n",
        "\n",
        "# Train RF model\n",
        "rf_model.fit(X_train, y_train)"
      ],
      "execution_count": 31,
      "outputs": [
        {
          "output_type": "execute_result",
          "data": {
            "text/plain": [
              "RandomForestClassifier(bootstrap=True, ccp_alpha=0.0, class_weight=None,\n",
              "                       criterion='gini', max_depth=60, max_features='auto',\n",
              "                       max_leaf_nodes=None, max_samples=0.8,\n",
              "                       min_impurity_decrease=0.0, min_impurity_split=None,\n",
              "                       min_samples_leaf=6, min_samples_split=9,\n",
              "                       min_weight_fraction_leaf=0.0, n_estimators=270,\n",
              "                       n_jobs=None, oob_score=False, random_state=2, verbose=0,\n",
              "                       warm_start=False)"
            ]
          },
          "metadata": {},
          "execution_count": 31
        }
      ]
    },
    {
      "cell_type": "code",
      "metadata": {
        "colab": {
          "base_uri": "https://localhost:8080/",
          "height": 619
        },
        "id": "ix2j-tENjBw1",
        "outputId": "2fabe038-2762-4f55-c2ff-7e6127345e4b"
      },
      "source": [
        "# Summarize feature importance\n",
        "rf_importance = rf_model.feature_importances_\n",
        "for i, v in enumerate(rf_importance):\n",
        "  print('Feature: %0d, Score: %.5f' % (i,v))\n",
        "plt.bar([x for x in range(len(rf_importance))], rf_importance)\n",
        "plt.show()"
      ],
      "execution_count": 32,
      "outputs": [
        {
          "output_type": "stream",
          "name": "stdout",
          "text": [
            "Feature: 0, Score: 0.04884\n",
            "Feature: 1, Score: 0.02394\n",
            "Feature: 2, Score: 0.00926\n",
            "Feature: 3, Score: 0.02156\n",
            "Feature: 4, Score: 0.00383\n",
            "Feature: 5, Score: 0.00974\n",
            "Feature: 6, Score: 0.00500\n",
            "Feature: 7, Score: 0.00806\n",
            "Feature: 8, Score: 0.02338\n",
            "Feature: 9, Score: 0.02454\n",
            "Feature: 10, Score: 0.38309\n",
            "Feature: 11, Score: 0.01921\n",
            "Feature: 12, Score: 0.05471\n",
            "Feature: 13, Score: 0.01045\n",
            "Feature: 14, Score: 0.04160\n",
            "Feature: 15, Score: 0.03189\n",
            "Feature: 16, Score: 0.03077\n",
            "Feature: 17, Score: 0.03765\n",
            "Feature: 18, Score: 0.11786\n",
            "Feature: 19, Score: 0.09459\n"
          ]
        },
        {
          "output_type": "display_data",
          "data": {
            "image/png": "[encoded data removed]",
            "text/plain": [
              "<Figure size 432x288 with 1 Axes>"
            ]
          },
          "metadata": {
            "needs_background": "light"
          }
        }
      ]
    },
    {
      "cell_type": "code",
      "metadata": {
        "colab": {
          "base_uri": "https://localhost:8080/"
        },
        "id": "fzak43i4pT4X",
        "outputId": "27faa5c5-53a9-4a15-cfb8-cd17fb661c4e"
      },
      "source": [
        "# Predict test set results\n",
        "# If rf_pred > 0.5, client has subscribed to a term deposit\n",
        "rf_pred = rf_model.predict(X_test)\n",
        "rf_pred = (rf_pred > 0.5)\n",
        "print('rf_pred: y_test:')\n",
        "print(np.concatenate((rf_pred.reshape(len(rf_pred), 1), y_test.reshape(len(y_test), 1)), 1 ))\n",
        "print('')\n",
        "\n",
        "# Create the confusion matrix\n",
        "# TN = cm[0][0]  # True Negative\n",
        "# FP = cm[0][1]  # False Positive\n",
        "# FN = cm[1][0]  # False Negative\n",
        "# TP = cm[1][1]  # True Positive\n",
        "print('Confusion Matrix: ')\n",
        "cm = confusion_matrix(y_test, rf_pred)\n",
        "print(cm)\n",
        "print('')\n",
        "print(\"Test Accuracy: %.3f%% \" % (accuracy_score(y_test, rf_pred) * 100))\n",
        "# print(\"ROC_AUC: %.3f%% \" % (roc_auc_score(y_test, rf_pred) * 100))\n",
        "print('')\n",
        "\n",
        "# accuracy = (TP + TN)/(TN + FP + FN + TP)\n",
        "# precision = TP/(TP + FP)\n",
        "# recall = TP/(TP + FN)\n",
        "# f1_score = (2 * precision * recall)/(precision + recall)\n",
        "# support = Number of occurrences of each class in rf_pred\n",
        "print('Classification Report: ')\n",
        "print(classification_report(y_test, rf_pred))"
      ],
      "execution_count": 33,
      "outputs": [
        {
          "output_type": "stream",
          "name": "stdout",
          "text": [
            "rf_pred: y_test:\n",
            "[[0 1]\n",
            " [0 0]\n",
            " [0 0]\n",
            " ...\n",
            " [1 1]\n",
            " [0 0]\n",
            " [0 0]]\n",
            "\n",
            "Confusion Matrix: \n",
            "[[7092  227]\n",
            " [ 442  477]]\n",
            "\n",
            "Test Accuracy: 91.879% \n",
            "\n",
            "Classification Report: \n",
            "              precision    recall  f1-score   support\n",
            "\n",
            "           0       0.94      0.97      0.95      7319\n",
            "           1       0.68      0.52      0.59       919\n",
            "\n",
            "    accuracy                           0.92      8238\n",
            "   macro avg       0.81      0.74      0.77      8238\n",
            "weighted avg       0.91      0.92      0.91      8238\n",
            "\n"
          ]
        }
      ]
    },
    {
      "cell_type": "code",
      "metadata": {
        "colab": {
          "base_uri": "https://localhost:8080/"
        },
        "id": "3OwQvmnnpWSX",
        "outputId": "5fac1d42-7cfb-404e-c34e-08c16e18d6b5"
      },
      "source": [
        "# Apply k-Fold Cross Validation on the training set\n",
        "cv = RepeatedStratifiedKFold(n_splits = 10, n_repeats = 3, random_state = 0)\n",
        "scores = cross_val_score(rf_model, X_train, y_train, scoring='accuracy', cv=cv, n_jobs=-1)\n",
        "# scores = cross_val_score(rf_model, X_train, y_train, scoring='roc_auc', cv=cv, n_jobs=-1)\n",
        "\n",
        "# Force scores to be positive\n",
        "scores = abs(scores)\n",
        "print(\"Mean Accuracy: %.3f%%\" % (np.mean(scores) * 100))\n",
        "print(\"Standard Deviation: %.3f%%\" % np.std(scores))\n",
        "print(\"Min Accuracy: %.3f%%\" % (np.min(scores) * 100))\n",
        "print(\"Max Accuracy: %.3f%%\" % (np.max(scores) * 100))"
      ],
      "execution_count": 34,
      "outputs": [
        {
          "output_type": "stream",
          "name": "stdout",
          "text": [
            "Mean Accuracy: 91.569%\n",
            "Standard Deviation: 0.004%\n",
            "Min Accuracy: 90.683%\n",
            "Max Accuracy: 92.443%\n"
          ]
        }
      ]
    },
    {
      "cell_type": "markdown",
      "metadata": {
        "id": "uKGKjWPupY-6"
      },
      "source": [
        "<table border = \"1\">\n",
        "  <thead>\n",
        "    <th colspan = \"3\">Random Forest Cross-Validation Results</th>\n",
        "  </thead>\n",
        "  <tbody>\n",
        "    <tr>\n",
        "      <td><b></b></td>\n",
        "      <td><b>Accuracy</b></td>\n",
        "      <td><b>ROC_AUC</b></td>\n",
        "    </tr>\n",
        "    <tr>\n",
        "      <td><b>Mean</b></td>\n",
        "      <td>91.569%</td>\n",
        "      <td>94.780%</td>\n",
        "    </tr>\n",
        "    <tr>\n",
        "      <td><b>Std.</b></td>\n",
        "      <td>0.004%</td>\n",
        "      <td>0.004%</td>\n",
        "    </tr>\n",
        "    <tr>\n",
        "      <td><b>Min</b></td>\n",
        "      <td>90.683%</td>\n",
        "      <td>93.835%</td>\n",
        "    </tr>\n",
        "    <tr>\n",
        "      <td><b>Max</b></td>\n",
        "      <td>92.443%</td>\n",
        "      <td>05.552%</td>\n",
        "    </tr>\n",
        "  </tbody>\n",
        "</table>"
      ]
    },
    {
      "cell_type": "code",
      "metadata": {
        "colab": {
          "base_uri": "https://localhost:8080/"
        },
        "id": "yYg-84s7payv",
        "outputId": "aa2e881c-fce5-48b3-a41e-e3b17c1975fd"
      },
      "source": [
        "# Apply Grid Search for parameter tuning\n",
        "\n",
        "# rf_grid = {'n_estimators': [50, 100, 150, 200, 250],\n",
        "#            'criterion': ['gini', 'entropy'],\n",
        "#            'max_depth': [10, 25, 50, 75, 100],\n",
        "#            'min_samples_leaf': [2, 5, 10],\n",
        "#            'min_samples_split': [2, 5, 10],\n",
        "#            'max_samples': [0.2, 0.4, 0.6, 0.8, 1],\n",
        "#            'random_state': [0, 1, 2]}\n",
        "\n",
        "# Accuracy scoring\n",
        "rf_grid = {'criterion': ['gini'],\n",
        "           'max_depth': [60],\n",
        "           'n_estimators': [270],\n",
        "           'min_samples_leaf': [6],\n",
        "           'min_samples_split': [9],\n",
        "           'max_samples': [0.8],\n",
        "           'random_state': [2]}\n",
        "\n",
        "# ROC_AUC scoring\n",
        "# rf_grid = {'criterion': ['entropy'],\n",
        "#            'max_depth': [13],\n",
        "#            'n_estimators': [149],\n",
        "#            'min_samples_leaf': [6],\n",
        "#            'min_samples_split': [3],\n",
        "#            'max_samples': [0.8],\n",
        "#            'random_state': [0]}\n",
        "\n",
        "rf_grid = GridSearchCV(rf_model, rf_grid, scoring='accuracy', cv=cv, n_jobs=-1)\n",
        "# rf_grid = GridSearchCV(rf_model, rf_grid, scoring='roc_auc', cv=cv, n_jobs=-1)\n",
        "results = rf_grid.fit(X_train, y_train)\n",
        "\n",
        "# Summarize results\n",
        "best_score = rf_grid.best_score_\n",
        "best_parameters = rf_grid.best_params_\n",
        "print(\"Best Score: %.3f%%\" % (best_score * 100))\n",
        "print(\"Best Parameters: \", best_parameters)"
      ],
      "execution_count": 35,
      "outputs": [
        {
          "output_type": "stream",
          "name": "stdout",
          "text": [
            "Best Score: 91.569%\n",
            "Best Parameters:  {'criterion': 'gini', 'max_depth': 60, 'max_samples': 0.8, 'min_samples_leaf': 6, 'min_samples_split': 9, 'n_estimators': 270, 'random_state': 2}\n"
          ]
        }
      ]
    },
    {
      "cell_type": "markdown",
      "metadata": {
        "id": "WPT3J6Popf29"
      },
      "source": [
        "<table border = \"1\">\n",
        "  <thead>\n",
        "    <th colspan = \"3\">Random Forest Grid Search Results</th>\n",
        "  </thead>\n",
        "  <tbody>\n",
        "    <tr>\n",
        "      <td><b></b></td>\n",
        "      <td><b>Accuracy</b></td>\n",
        "      <td><b>ROC_AUC</b></td>\n",
        "    </tr>\n",
        "    <tr>\n",
        "      <td><b>Best Score</b></td>\n",
        "      <td>91.569%</td>\n",
        "      <td>94.780%</td>\n",
        "    </tr>\n",
        "    <tr>\n",
        "      <td colspan=\"3\"><b>Best Parameters:</b></td>\n",
        "    </tr>\n",
        "    <tr>\n",
        "      <td><b>criterion</b></td>\n",
        "      <td>'gini'</td>\n",
        "      <td>'entropy'</td>\n",
        "    </tr>\n",
        "    <tr>\n",
        "      <td><b>max_depth</b></td>\n",
        "      <td>60</td>\n",
        "      <td>13</td>\n",
        "    </tr>\n",
        "    <tr>\n",
        "      <td><b>max_samples</b></td>\n",
        "      <td>0.8</td>\n",
        "      <td>0.8</td>\n",
        "    </tr>\n",
        "    <tr>\n",
        "      <td><b>min_samples_leaf</b></td>\n",
        "      <td>6</td>\n",
        "      <td>6</td>\n",
        "    </tr>\n",
        "    <tr>\n",
        "      <td><b>min_samples_split</b></td>\n",
        "      <td>9</td>\n",
        "      <td>3</td>\n",
        "    </tr>\n",
        "    <tr>\n",
        "      <td><b>n_estimators</b></td>\n",
        "      <td>270</td>\n",
        "      <td>149</td>\n",
        "    </tr>\n",
        "    <tr>\n",
        "      <td><b>random_state</b></td>\n",
        "      <td>2</td>\n",
        "      <td>0</td>\n",
        "    </tr>\n",
        "  </tbody>\n",
        "</table>"
      ]
    },
    {
      "cell_type": "markdown",
      "metadata": {
        "id": "WYMgAchVkbcl"
      },
      "source": [
        "### XGBoost (XGB)"
      ]
    },
    {
      "cell_type": "code",
      "metadata": {
        "colab": {
          "base_uri": "https://localhost:8080/"
        },
        "id": "y2EqP41tpqCB",
        "outputId": "7be01d2e-cecf-447c-87a8-84e35e0c9c43"
      },
      "source": [
        "# Accuracy Scoring\n",
        "xgb_model = XGBClassifier(max_depth=6, n_estimators=99, learning_rate=0.1, \n",
        "                    colsample_bytree=0.5, gamma=0, min_child_weight=1, \n",
        "                    reg_alpha=0.1, subsample=1, random_state=0)\n",
        "\n",
        "# ROC_AUC Scoring\n",
        "# xgb_model = XGBClassifier(max_depth=6, n_estimators=104, learning_rate=0.09, \n",
        "#                     gamma=0.02, colsample_bytree=0.7, min_child_weight=5,\n",
        "#                     reg_alpha=1.2, subsample=1, random_state=7)\n",
        "\n",
        "# Train XGB Model\n",
        "xgb_model.fit(X_train, y_train)"
      ],
      "execution_count": 36,
      "outputs": [
        {
          "output_type": "execute_result",
          "data": {
            "text/plain": [
              "XGBClassifier(base_score=0.5, booster='gbtree', colsample_bylevel=1,\n",
              "              colsample_bynode=1, colsample_bytree=0.5, gamma=0,\n",
              "              learning_rate=0.1, max_delta_step=0, max_depth=6,\n",
              "              min_child_weight=1, missing=None, n_estimators=99, n_jobs=1,\n",
              "              nthread=None, objective='binary:logistic', random_state=0,\n",
              "              reg_alpha=0.1, reg_lambda=1, scale_pos_weight=1, seed=None,\n",
              "              silent=None, subsample=1, verbosity=1)"
            ]
          },
          "metadata": {},
          "execution_count": 36
        }
      ]
    },
    {
      "cell_type": "code",
      "metadata": {
        "colab": {
          "base_uri": "https://localhost:8080/",
          "height": 616
        },
        "id": "F5RBTXc6jgq0",
        "outputId": "c4512cfc-d2fc-40b9-a795-97d902249bc0"
      },
      "source": [
        "# Summarize feature importance\n",
        "xgb_importance = xgb_model.feature_importances_\n",
        "for i, v in enumerate(xgb_importance):\n",
        "  print('Feature: %0d, Score: %.5f' % (i,v))\n",
        "plt.bar([x for x in range(len(xgb_importance))], xgb_importance)\n",
        "plt.show()"
      ],
      "execution_count": 37,
      "outputs": [
        {
          "output_type": "stream",
          "name": "stdout",
          "text": [
            "Feature: 0, Score: 0.01207\n",
            "Feature: 1, Score: 0.00799\n",
            "Feature: 2, Score: 0.00767\n",
            "Feature: 3, Score: 0.01147\n",
            "Feature: 4, Score: 0.01761\n",
            "Feature: 5, Score: 0.00707\n",
            "Feature: 6, Score: 0.00865\n",
            "Feature: 7, Score: 0.02492\n",
            "Feature: 8, Score: 0.03049\n",
            "Feature: 9, Score: 0.01372\n",
            "Feature: 10, Score: 0.13290\n",
            "Feature: 11, Score: 0.01029\n",
            "Feature: 12, Score: 0.06766\n",
            "Feature: 13, Score: 0.01332\n",
            "Feature: 14, Score: 0.03760\n",
            "Feature: 15, Score: 0.10370\n",
            "Feature: 16, Score: 0.03078\n",
            "Feature: 17, Score: 0.05663\n",
            "Feature: 18, Score: 0.06019\n",
            "Feature: 19, Score: 0.34531\n"
          ]
        },
        {
          "output_type": "display_data",
          "data": {
            "image/png": "[encoded data removed]",
            "text/plain": [
              "<Figure size 432x288 with 1 Axes>"
            ]
          },
          "metadata": {
            "needs_background": "light"
          }
        }
      ]
    },
    {
      "cell_type": "code",
      "metadata": {
        "colab": {
          "base_uri": "https://localhost:8080/"
        },
        "id": "TQYaniw2preB",
        "outputId": "7a3b626f-8259-412a-cfae-d0bb8a66ea47"
      },
      "source": [
        "# Predict test set results\n",
        "# If xgb_pred > 0.5, client has subscribed to a term deposit\n",
        "xgb_pred = xgb_model.predict(X_test)\n",
        "xgb_pred = (xgb_pred > 0.5)\n",
        "print('xgb_pred: y_test:')\n",
        "print(np.concatenate((xgb_pred.reshape(len(xgb_pred), 1), y_test.reshape(len(y_test), 1)), 1 ))\n",
        "print('')\n",
        "\n",
        "# Create the confusion matrix\n",
        "# TN = cm[0][0]  # True Negative\n",
        "# FP = cm[0][1]  # False Positive\n",
        "# FN = cm[1][0]  # False Negative\n",
        "# TP = cm[1][1]  # True Positive\n",
        "print('Confusion Matrix: ')\n",
        "cm = confusion_matrix(y_test, xgb_pred)\n",
        "print(cm)\n",
        "print('')\n",
        "print(\"Test Accuracy: %.3f%% \" % (accuracy_score(y_test, xgb_pred) * 100))\n",
        "# print(\"ROC_AUC: %.3f%% \" % (roc_auc_score(y_test, xgb_pred) * 100))\n",
        "print('')\n",
        "\n",
        "# accuracy = (TP + TN)/(TN + FP + FN + TP)\n",
        "# precision = TP/(TP + FP)\n",
        "# recall = TP/(TP + FN)\n",
        "# f1_score = (2 * precision * recall)/(precision + recall)\n",
        "# support = Number of occurrences of each class in xgb_pred\n",
        "print('Classification Report: ')\n",
        "print(classification_report(y_test, xgb_pred))"
      ],
      "execution_count": 38,
      "outputs": [
        {
          "output_type": "stream",
          "name": "stdout",
          "text": [
            "xgb_pred: y_test:\n",
            "[[0 1]\n",
            " [0 0]\n",
            " [0 0]\n",
            " ...\n",
            " [1 1]\n",
            " [0 0]\n",
            " [0 0]]\n",
            "\n",
            "Confusion Matrix: \n",
            "[[7081  238]\n",
            " [ 401  518]]\n",
            "\n",
            "Test Accuracy: 92.243% \n",
            "\n",
            "Classification Report: \n",
            "              precision    recall  f1-score   support\n",
            "\n",
            "           0       0.95      0.97      0.96      7319\n",
            "           1       0.69      0.56      0.62       919\n",
            "\n",
            "    accuracy                           0.92      8238\n",
            "   macro avg       0.82      0.77      0.79      8238\n",
            "weighted avg       0.92      0.92      0.92      8238\n",
            "\n"
          ]
        }
      ]
    },
    {
      "cell_type": "code",
      "metadata": {
        "colab": {
          "base_uri": "https://localhost:8080/"
        },
        "id": "y2VhYeLrpuze",
        "outputId": "54a00f29-10a2-4a26-9663-78a70ee1d70f"
      },
      "source": [
        "# Apply k-Fold Cross Validation on the training set\n",
        "cv = RepeatedStratifiedKFold(n_splits = 10, n_repeats = 3, random_state = 0)\n",
        "scores = cross_val_score(xgb_model, X_train, y_train, scoring='accuracy', cv=cv, n_jobs=-1)\n",
        "# scores = cross_val_score(xgb_model, X_train, y_train, scoring='roc_auc', cv=cv, n_jobs=-1)\n",
        "\n",
        "# Force scores to be positive\n",
        "scores = abs(scores)\n",
        "print(\"Mean Accuracy: %.3f%%\" % (np.mean(scores) * 100))\n",
        "print(\"Standard Deviation: %.3f%%\" % np.std(scores))\n",
        "print(\"Min Accuracy: %.3f%%\" % (np.min(scores) * 100))\n",
        "print(\"Max Accuracy: %.3f%%\" % (np.max(scores) * 100))"
      ],
      "execution_count": 39,
      "outputs": [
        {
          "output_type": "stream",
          "name": "stdout",
          "text": [
            "Mean Accuracy: 91.689%\n",
            "Standard Deviation: 0.004%\n",
            "Min Accuracy: 90.986%\n",
            "Max Accuracy: 92.504%\n"
          ]
        }
      ]
    },
    {
      "cell_type": "markdown",
      "metadata": {
        "id": "M2kY0yJRpw1y"
      },
      "source": [
        "<table border = \"1\">\n",
        "  <thead>\n",
        "    <th colspan = \"3\">XGBoost Cross-Validation Results</th>\n",
        "  </thead>\n",
        "  <tbody>\n",
        "    <tr>\n",
        "      <td><b></b></td>\n",
        "      <td><b>Accuracy</b></td>\n",
        "      <td><b>ROC_AUC</b></td>\n",
        "    </tr>\n",
        "    <tr>\n",
        "      <td><b>Mean</b></td>\n",
        "      <td>91.689%</td>\n",
        "      <td>94.950%</td>\n",
        "    </tr>\n",
        "    <tr>\n",
        "      <td><b>Std.</b></td>\n",
        "      <td>0.004%</td>\n",
        "      <td>0.004%</td>\n",
        "    </tr>\n",
        "    <tr>\n",
        "      <td><b>Min</b></td>\n",
        "      <td>90.986%</td>\n",
        "      <td>94.132%</td>\n",
        "    </tr>\n",
        "    <tr>\n",
        "      <td><b>Max</b></td>\n",
        "      <td>92.504%</td>\n",
        "      <td>95.564%</td>\n",
        "    </tr>\n",
        "  </tbody>\n",
        "</table>"
      ]
    },
    {
      "cell_type": "code",
      "metadata": {
        "colab": {
          "base_uri": "https://localhost:8080/"
        },
        "id": "lVuvxtBqp0Dj",
        "outputId": "d412a66f-568e-4eb3-f67b-e171fd5f96bd"
      },
      "source": [
        "# Apply Grid Search for parameter tuning\n",
        "\n",
        "# xgb_grid = {'max_depth': [1, 2, 5, 10, 20], \n",
        "#               'n_estimators': [50, 100, 150, 200],\n",
        "#               'learning_rate': [0.05, 0.1, 0.15],\n",
        "#               'colsample_bytree': [0.3, 0.5, 0.7],\n",
        "#               'gamma': [0, 0.05],\n",
        "#               'min_child_weight': [2, 5, 8, 10],\n",
        "#               'reg_alpha':[0.001, 0.01, 0.1, 1, 10],\n",
        "#               'subsample': [0.6, 0.8, 1.0],\n",
        "#               'random_state': [0, 1, 5, 10, 20, 40]}\n",
        "\n",
        "# Accuracy scoring\n",
        "xgb_grid = {'max_depth': [6],\n",
        "            'n_estimators': [99],\n",
        "            'learning_rate': [0.1],\n",
        "            'colsample_bytree': [0.5],\n",
        "            'gamma': [0],\n",
        "            'min_child_weight': [1],\n",
        "            'reg_alpha':[0.1],\n",
        "            'subsample': [1.0],\n",
        "            'random_state': [0, 1]}\n",
        "\n",
        "# ROC_AUC scoring\n",
        "# xgb_grid = {'max_depth': [6],\n",
        "#             'n_estimators': [104],\n",
        "#             'learning_rate': [0.09],\n",
        "#             'colsample_bytree': [0.7],\n",
        "#             'gamma': [0.02],\n",
        "#             'min_child_weight': [5],\n",
        "#             'reg_alpha':[1.2],\n",
        "#             'subsample': [1],\n",
        "#             'random_state': [6, 7]}\n",
        "\n",
        "xgb_grid = GridSearchCV(xgb_model, xgb_grid, scoring='accuracy', cv=cv, n_jobs=-1)\n",
        "# xgb_grid = GridSearchCV(xgb_model, xgb_grid, scoring='roc_auc', cv=cv, n_jobs=-1)\n",
        "results = xgb_grid.fit(X_train, y_train)\n",
        "\n",
        "# Summarize results\n",
        "best_score = xgb_grid.best_score_\n",
        "best_parameters = xgb_grid.best_params_\n",
        "print(\"Best Score: %.3f%%\" % (best_score * 100))\n",
        "print(\"Best Parameters: \", best_parameters)\n"
      ],
      "execution_count": 40,
      "outputs": [
        {
          "output_type": "stream",
          "name": "stdout",
          "text": [
            "Best Score: 91.689%\n",
            "Best Parameters:  {'colsample_bytree': 0.5, 'gamma': 0, 'learning_rate': 0.1, 'max_depth': 6, 'min_child_weight': 1, 'n_estimators': 99, 'random_state': 0, 'reg_alpha': 0.1, 'subsample': 1.0}\n"
          ]
        }
      ]
    },
    {
      "cell_type": "markdown",
      "metadata": {
        "id": "XDbkuzGWp2sy"
      },
      "source": [
        "<table border = \"1\">\n",
        "  <thead>\n",
        "    <th colspan = \"3\">XGBoost Grid Search Results</th>\n",
        "  </thead>\n",
        "  <tbody>\n",
        "    <tr>\n",
        "      <td><b></b></td>\n",
        "      <td><b>Accuracy</b></td>\n",
        "      <td><b>ROC_AUC</b></td>\n",
        "    </tr>\n",
        "    <tr>\n",
        "      <td><b>Best Score</b></td>\n",
        "      <td>91.689%</td>\n",
        "      <td>94.950%</td>\n",
        "    </tr>\n",
        "    <tr>\n",
        "      <td colspan=\"3\"><b>Best Parameters:</b></td>\n",
        "    </tr>\n",
        "    <tr>\n",
        "      <td><b>max_depth</b></td>\n",
        "      <td>6</td>\n",
        "      <td>6</td>\n",
        "    </tr>\n",
        "    <tr>\n",
        "      <td><b>n_estimators</b></td>\n",
        "      <td>99</td>\n",
        "      <td>104</td>\n",
        "    </tr>\n",
        "    <tr>\n",
        "      <td><b>learning_rate</b></td>\n",
        "      <td>0.1</td>\n",
        "      <td>0.09</td>\n",
        "    </tr>\n",
        "    <tr>\n",
        "      <td><b>colsample_bytree</b></td>\n",
        "      <td>0.5</td>\n",
        "      <td>0.7</td>\n",
        "    </tr>\n",
        "    <tr>\n",
        "      <td><b>gamma</b></td>\n",
        "      <td>0</td>\n",
        "      <td>0.02</td>\n",
        "    </tr>\n",
        "    <tr>\n",
        "      <td><b>min_child_weight</b></td>\n",
        "      <td>1</td>\n",
        "      <td>5</td>\n",
        "    </tr>\n",
        "    <tr>\n",
        "      <td><b>reg_alpha</b></td>\n",
        "      <td>0.1</td>\n",
        "      <td>1.2</td>\n",
        "    </tr>\n",
        "    <tr>\n",
        "      <td><b>subsample</b></td>\n",
        "      <td>1</td>\n",
        "      <td>1</td>\n",
        "    </tr>\n",
        "    <tr>\n",
        "      <td><b>random_state</b></td>\n",
        "      <td>0</td>\n",
        "      <td>7</td>\n",
        "    </tr>\n",
        "  </tbody>\n",
        "</table>"
      ]
    },
    {
      "cell_type": "markdown",
      "metadata": {
        "id": "i3e1porpkdGO"
      },
      "source": [
        "### LightGBM (LGB)"
      ]
    },
    {
      "cell_type": "code",
      "metadata": {
        "colab": {
          "base_uri": "https://localhost:8080/"
        },
        "id": "cTjcGEIxqBI_",
        "outputId": "bb93cf22-050d-459c-ffa5-84f4e38c2819"
      },
      "source": [
        "# Accuracy Scoring \n",
        "lgb_model = LGBMClassifier(boosting_type='gbdt', max_depth=12, n_estimators=50, \n",
        "                     learning_rate=0.1, colsample_bytree=1, num_leaves=22, \n",
        "                     min_split_gain=2, max_samples=0.01, reg_alpha=1.22, \n",
        "                     reg_lambda=1.48, subsample=1, subsample_freq=1, \n",
        "                     random_state=0)\n",
        "\n",
        "# ROC_AUC Scoring \n",
        "# lgb_model = LGBMClassifier(boosting_type='gbdt', max_depth=18, n_estimators=55, \n",
        "#                      learning_rate=0.07, colsample_bytree=0.95, num_leaves=38, \n",
        "#                      min_split_gain=2, max_samples=0.01, reg_alpha=0.32, \n",
        "#                      reg_lambda=0.18, subsample=0.99, subsample_freq=1, \n",
        "#                      random_state=0)\n",
        "\n",
        "# Train LGB Model\n",
        "lgb_model.fit(X_train, y_train)"
      ],
      "execution_count": 41,
      "outputs": [
        {
          "output_type": "execute_result",
          "data": {
            "text/plain": [
              "LGBMClassifier(boosting_type='gbdt', class_weight=None, colsample_bytree=1,\n",
              "               importance_type='split', learning_rate=0.1, max_depth=12,\n",
              "               max_samples=0.01, min_child_samples=20, min_child_weight=0.001,\n",
              "               min_split_gain=2, n_estimators=50, n_jobs=-1, num_leaves=22,\n",
              "               objective=None, random_state=0, reg_alpha=1.22, reg_lambda=1.48,\n",
              "               silent=True, subsample=1, subsample_for_bin=200000,\n",
              "               subsample_freq=1)"
            ]
          },
          "metadata": {},
          "execution_count": 41
        }
      ]
    },
    {
      "cell_type": "code",
      "metadata": {
        "colab": {
          "base_uri": "https://localhost:8080/",
          "height": 616
        },
        "id": "Reep3yAbjwUW",
        "outputId": "39cffa6f-b94d-410c-eb3d-fc1cab16cb05"
      },
      "source": [
        "# Summarize feature importance\n",
        "lgb_importance = lgb_model.feature_importances_\n",
        "for i, v in enumerate(lgb_importance):\n",
        "  print('Feature: %0d, Score: %.5f' % (i,v))\n",
        "plt.bar([x for x in range(len(lgb_importance))], lgb_importance)\n",
        "plt.show()"
      ],
      "execution_count": 42,
      "outputs": [
        {
          "output_type": "stream",
          "name": "stdout",
          "text": [
            "Feature: 0, Score: 67.00000\n",
            "Feature: 1, Score: 0.00000\n",
            "Feature: 2, Score: 1.00000\n",
            "Feature: 3, Score: 20.00000\n",
            "Feature: 4, Score: 15.00000\n",
            "Feature: 5, Score: 0.00000\n",
            "Feature: 6, Score: 0.00000\n",
            "Feature: 7, Score: 20.00000\n",
            "Feature: 8, Score: 45.00000\n",
            "Feature: 9, Score: 25.00000\n",
            "Feature: 10, Score: 242.00000\n",
            "Feature: 11, Score: 33.00000\n",
            "Feature: 12, Score: 38.00000\n",
            "Feature: 13, Score: 2.00000\n",
            "Feature: 14, Score: 39.00000\n",
            "Feature: 15, Score: 53.00000\n",
            "Feature: 16, Score: 40.00000\n",
            "Feature: 17, Score: 27.00000\n",
            "Feature: 18, Score: 256.00000\n",
            "Feature: 19, Score: 32.00000\n"
          ]
        },
        {
          "output_type": "display_data",
          "data": {
            "image/png": "[encoded data removed]",
            "text/plain": [
              "<Figure size 432x288 with 1 Axes>"
            ]
          },
          "metadata": {
            "needs_background": "light"
          }
        }
      ]
    },
    {
      "cell_type": "code",
      "metadata": {
        "colab": {
          "base_uri": "https://localhost:8080/"
        },
        "id": "TlmpHXunqD43",
        "outputId": "198c2abd-d2d0-4d5b-cc4e-ccc31906f531"
      },
      "source": [
        "# Predict test set results\n",
        "# If lgb_pred > 0.5, client has subscribed to a term deposit\n",
        "lgb_pred = lgb_model.predict(X_test)\n",
        "lgb_pred = (lgb_pred > 0.5)\n",
        "print('lgb_pred: y_test:')\n",
        "print(np.concatenate((lgb_pred.reshape(len(lgb_pred), 1), y_test.reshape(len(y_test), 1)), 1 ))\n",
        "print('')\n",
        "\n",
        "# Create the confusion matrix\n",
        "# TN = cm[0][0]  # True Negative\n",
        "# FP = cm[0][1]  # False Positive\n",
        "# FN = cm[1][0]  # False Negative\n",
        "# TP = cm[1][1]  # True Positive\n",
        "print('Confusion Matrix: ')\n",
        "cm = confusion_matrix(y_test, lgb_pred)\n",
        "print(cm)\n",
        "print('')\n",
        "print(\"Test Accuracy: %.3f%% \" % (accuracy_score(y_test, lgb_pred) * 100))\n",
        "# print(\"ROC_AUC: %.3f%% \" % (roc_auc_score(y_test, lgb_pred) * 100))\n",
        "print('')\n",
        "\n",
        "# accuracy = (TP + TN)/(TN + FP + FN + TP)\n",
        "# precision = TP/(TP + FP)\n",
        "# recall = TP/(TP + FN)\n",
        "# f1_score = (2 * precision * recall)/(precision + recall)\n",
        "# support = Number of occurrences of each class in lgb_pred\n",
        "print('Classification Report: ')\n",
        "print(classification_report(y_test, lgb_pred))"
      ],
      "execution_count": 43,
      "outputs": [
        {
          "output_type": "stream",
          "name": "stdout",
          "text": [
            "lgb_pred: y_test:\n",
            "[[0 1]\n",
            " [0 0]\n",
            " [0 0]\n",
            " ...\n",
            " [1 1]\n",
            " [0 0]\n",
            " [0 0]]\n",
            "\n",
            "Confusion Matrix: \n",
            "[[7060  259]\n",
            " [ 389  530]]\n",
            "\n",
            "Test Accuracy: 92.134% \n",
            "\n",
            "Classification Report: \n",
            "              precision    recall  f1-score   support\n",
            "\n",
            "           0       0.95      0.96      0.96      7319\n",
            "           1       0.67      0.58      0.62       919\n",
            "\n",
            "    accuracy                           0.92      8238\n",
            "   macro avg       0.81      0.77      0.79      8238\n",
            "weighted avg       0.92      0.92      0.92      8238\n",
            "\n"
          ]
        }
      ]
    },
    {
      "cell_type": "code",
      "metadata": {
        "colab": {
          "base_uri": "https://localhost:8080/"
        },
        "id": "qbdQIQeAqF30",
        "outputId": "109c14f0-442b-4100-841b-e255cc64e6de"
      },
      "source": [
        "# Apply k-Fold Cross Validation on the training set\n",
        "cv = RepeatedStratifiedKFold(n_splits = 10, n_repeats = 3, random_state = 0)\n",
        "scores = cross_val_score(lgb_model, X_train, y_train, scoring='accuracy', cv=cv, n_jobs=-1)\n",
        "# scores = cross_val_score(lgb_model, X_train, y_train, scoring='roc_auc', cv=cv, n_jobs=-1)\n",
        "\n",
        "# Force scores to be positive\n",
        "scores = abs(scores)\n",
        "print(\"Mean Accuracy: %.3f%%\" % (np.mean(scores) * 100))\n",
        "print(\"Standard Deviation: %.3f%%\" % np.std(scores))\n",
        "print(\"Min Accuracy: %.3f%%\" % (np.min(scores) * 100))\n",
        "print(\"Max Accuracy: %.3f%%\" % (np.max(scores) * 100))"
      ],
      "execution_count": 44,
      "outputs": [
        {
          "output_type": "stream",
          "name": "stdout",
          "text": [
            "Mean Accuracy: 91.763%\n",
            "Standard Deviation: 0.004%\n",
            "Min Accuracy: 90.986%\n",
            "Max Accuracy: 92.473%\n"
          ]
        }
      ]
    },
    {
      "cell_type": "markdown",
      "metadata": {
        "id": "Vov8NBqgqHc7"
      },
      "source": [
        "<table border = \"1\">\n",
        "  <thead>\n",
        "    <th colspan = \"3\">LightGBM Cross-Validation Results</th>\n",
        "  </thead>\n",
        "  <tbody>\n",
        "    <tr>\n",
        "      <td><b></b></td>\n",
        "      <td><b>Accuracy</b></td>\n",
        "      <td><b>ROC_AUC</b></td>\n",
        "    </tr>\n",
        "    <tr>\n",
        "      <td><b>Mean</b></td>\n",
        "      <td>91.763%</td>\n",
        "      <td>95.021%</td>\n",
        "    </tr>\n",
        "    <tr>\n",
        "      <td><b>Std.</b></td>\n",
        "      <td>0.004%</td>\n",
        "      <td>0.004%</td>\n",
        "    </tr>\n",
        "    <tr>\n",
        "      <td><b>Min</b></td>\n",
        "      <td>90.986%</td>\n",
        "      <td>94.323%</td>\n",
        "    </tr>\n",
        "    <tr>\n",
        "      <td><b>Max</b></td>\n",
        "      <td>92.473%</td>\n",
        "      <td>95.756%</td>\n",
        "    </tr>\n",
        "  </tbody>\n",
        "</table>"
      ]
    },
    {
      "cell_type": "code",
      "metadata": {
        "colab": {
          "base_uri": "https://localhost:8080/"
        },
        "id": "Hv4sgUZEqLfQ",
        "outputId": "1b1faef5-6237-43b0-c281-a981728404e6"
      },
      "source": [
        "# Apply Grid Search for parameter tuning\n",
        "\n",
        "# lgb_grid = {'boosting_type': ['gbdt'],\n",
        "#               'max_depth': [10, 25, 50, 75, 100],\n",
        "#               'n_estimators': [50, 100, 150, 200, 250],\n",
        "#               'learning_rate': [0.01, 0.05, 0.1, 0.15],\n",
        "#               'colsample_bytree': [0.2, 0.4, 0.6, 0.8, 1],\n",
        "#               'num_leaves': [1, 5, 10, 20],\n",
        "#               'min_split_gain': [2, 5, 10],\n",
        "#               'max_samples': [0.2, 0.4, 0.6, 0.8, 1],\n",
        "#               'reg_alpha': [0.5, 1, 1.5, 2, 5],\n",
        "#               'reg_lambda': [0.5, 1, 1.5, 2, 5],\n",
        "#               'subsample': [1, 1.5, 2, 5, 10],\n",
        "#               'subsample_freq': [5, 10, 15, 20, 25],\n",
        "#               'random_state': [0, 1, 2, 5, 10, 20, 40]}\n",
        "\n",
        "# Accuracy scoring\n",
        "lgb_grid = {'boosting_type': ['gbdt'],\n",
        "              'max_depth': [12],\n",
        "              'n_estimators': [50],\n",
        "              'learning_rate': [0.1],\n",
        "              'colsample_bytree': [1],\n",
        "              'num_leaves': [22],\n",
        "              'min_split_gain': [2],\n",
        "              'max_samples': [0.01],\n",
        "              'reg_alpha': [1.22],\n",
        "              'reg_lambda': [1.48],\n",
        "              'subsample': [1],\n",
        "              'subsample_freq': [1],\n",
        "              'random_state': [0, 1]}\n",
        "\n",
        "# ROC_AUC scoring\n",
        "# lgb_grid = {'boosting_type': ['gbdt'],\n",
        "#               'max_depth': [18],\n",
        "#               'n_estimators': [55],\n",
        "#               'learning_rate': [0.07],\n",
        "#               'colsample_bytree': [0.95],\n",
        "#               'num_leaves': [38],\n",
        "#               'min_split_gain': [2],\n",
        "#               'max_samples': [0.01],\n",
        "#               'reg_alpha': [0.32],\n",
        "#               'reg_lambda': [0.18],\n",
        "#               'subsample': [0.99],\n",
        "#               'subsample_freq': [1],\n",
        "#               'random_state': [0, 1]}\n",
        "\n",
        "\n",
        "lgb_grid = GridSearchCV(lgb_model, lgb_grid, scoring='accuracy', cv=cv, n_jobs=-1)\n",
        "# lgb_grid = GridSearchCV(lgb_model, lgb_grid, scoring='roc_auc', cv=cv, n_jobs=-1)\n",
        "results = lgb_grid.fit(X_train, y_train)\n",
        "\n",
        "# Summarize results\n",
        "best_score = lgb_grid.best_score_\n",
        "best_parameters = lgb_grid.best_params_\n",
        "print(\"Best Score: %.3f%%\" % (best_score * 100))\n",
        "print(\"Best Parameters: \", best_parameters)"
      ],
      "execution_count": 45,
      "outputs": [
        {
          "output_type": "stream",
          "name": "stdout",
          "text": [
            "Best Score: 91.763%\n",
            "Best Parameters:  {'boosting_type': 'gbdt', 'colsample_bytree': 1, 'learning_rate': 0.1, 'max_depth': 12, 'max_samples': 0.01, 'min_split_gain': 2, 'n_estimators': 50, 'num_leaves': 22, 'random_state': 0, 'reg_alpha': 1.22, 'reg_lambda': 1.48, 'subsample': 1, 'subsample_freq': 1}\n"
          ]
        }
      ]
    },
    {
      "cell_type": "markdown",
      "metadata": {
        "id": "_jPd0w9SqPG7"
      },
      "source": [
        "<table border = \"1\">\n",
        "  <thead>\n",
        "    <th colspan = \"3\">LightGBM Grid Search Results</th>\n",
        "  </thead>\n",
        "  <tbody>\n",
        "    <tr>\n",
        "      <td><b></b></td>\n",
        "      <td><b>Accuracy</b></td>\n",
        "      <td><b>ROC_AUC</b></td>\n",
        "    </tr>\n",
        "    <tr>\n",
        "      <td><b>Best Score</b></td>\n",
        "      <td>91.763%</td>\n",
        "      <td>95.031%</td>\n",
        "    </tr>\n",
        "    <tr>\n",
        "      <td colspan=\"3\"><b>Best Parameters:</b></td>\n",
        "    </tr>\n",
        "    <tr>\n",
        "      <td><b>max_depth</b></td>\n",
        "      <td>12</td>\n",
        "      <td>18</td>\n",
        "    </tr>\n",
        "    <tr>\n",
        "      <td><b>n_estimators</b></td>\n",
        "      <td>50</td>\n",
        "      <td>55</td>\n",
        "    </tr>\n",
        "    <tr>\n",
        "      <td><b>learning_rate</b></td>\n",
        "      <td>0.1</td>\n",
        "      <td>0.07</td>\n",
        "    </tr>\n",
        "    <tr>\n",
        "      <td><b>colsample_bytree</b></td>\n",
        "      <td>1</td>\n",
        "      <td>0.95</td>\n",
        "    </tr>\n",
        "    <tr>\n",
        "      <td><b>num_leaves</b></td>\n",
        "      <td>22</td>\n",
        "      <td>38</td>\n",
        "    </tr>\n",
        "    <tr>\n",
        "      <td><b>min_split_gain</b></td>\n",
        "      <td>2</td>\n",
        "      <td>2</td>\n",
        "    </tr>\n",
        "    <tr>\n",
        "      <td><b>max_samples</b></td>\n",
        "      <td>0.01</td>\n",
        "      <td>0.01</td>\n",
        "    </tr>\n",
        "    <tr>\n",
        "      <td><b>reg_alpha</b></td>\n",
        "      <td>1.22</td>\n",
        "      <td>0.32</td>\n",
        "    </tr>\n",
        "    <tr>\n",
        "      <td><b>reg_lambda</b></td>\n",
        "      <td>1.48</td>\n",
        "      <td>0.18</td>\n",
        "    </tr>\n",
        "    <tr>\n",
        "      <td><b>subsample</b></td>\n",
        "      <td>1</td>\n",
        "      <td>0.99</td>\n",
        "    </tr>\n",
        "    <tr>\n",
        "      <td><b>subsample_freq</b></td>\n",
        "      <td>1</td>\n",
        "      <td>1</td>\n",
        "    </tr>\n",
        "    <tr>\n",
        "      <td><b>random_state</b></td>\n",
        "      <td>0</td>\n",
        "      <td>0</td>\n",
        "    </tr>\n",
        "  </tbody>\n",
        "</table>"
      ]
    },
    {
      "cell_type": "markdown",
      "metadata": {
        "id": "R91HskYKawd1"
      },
      "source": [
        "## 6. Final Results"
      ]
    },
    {
      "cell_type": "markdown",
      "metadata": {
        "id": "IJsl2nDTqYT2"
      },
      "source": [
        "<table border = \"1\">\n",
        "  <thead>\n",
        "    <th colspan = \"5\">Final Classification Results</th>\n",
        "  </thead>\n",
        "  <tbody>\n",
        "    <tr>\n",
        "      <td><b>Model</b></td>\n",
        "      <td colspan = \"2\"><b>Accuracy (%)</b></td>\n",
        "      <td colspan = \"2\"><b>ROC_AUC (%)</b></td>\n",
        "    </tr>\n",
        "    <tr>\n",
        "      <td><b></b></td>\n",
        "      <td><b>Pred.</b></td>\n",
        "      <td><b>Val.</b></td>\n",
        "      <td><b>Pred.</b></td>\n",
        "      <td><b>Val.</b></td>\n",
        "    </tr> \n",
        "    <tr>\n",
        "      <td><b>Logistic Regression (LR)</b></td>\n",
        "      <td>90.945</td>\n",
        "      <td>91.588</td>\n",
        "      <td>93.110</td>\n",
        "      <td>87.053</td>\n",
        "    </tr>\n",
        "    <tr>\n",
        "      <td><b>Decision Tree (DT)</b></td>\n",
        "      <td>91.392</td>\n",
        "      <td>91.903</td>\n",
        "      <td>93.575</td>\n",
        "      <td>75.047</td>\n",
        "    </tr>\n",
        "    <tr>\n",
        "      <td><b>Random Forest (RF)</b></td>\n",
        "      <td>91.569</td>\n",
        "      <td>91.879</td>\n",
        "      <td>94.780</td>\n",
        "      <td>72.988</td>\n",
        "    </tr>\n",
        "    <tr>\n",
        "      <td><b>XGBoost (XGB)</b></td>\n",
        "      <td>91.689</td>\n",
        "      <td>92.243</td>\n",
        "      <td>94.950</td>\n",
        "      <td>76.251</td>\n",
        "    </tr>\n",
        "    <tr>\n",
        "      <td><b>LightGBM (LGB)</b></td>\n",
        "      <td>91.763</td>\n",
        "      <td>92.134</td>\n",
        "      <td>95.031</td>\n",
        "      <td>77.243</td>\n",
        "    </tr>\n",
        "  </tbody>\n",
        "</table>"
      ]
    },
    {
      "cell_type": "markdown",
      "metadata": {
        "id": "vL5v1au77cC2"
      },
      "source": [
        "## 7. Remarks"
      ]
    },
    {
      "cell_type": "markdown",
      "metadata": {
        "id": "lAqlkpN57bTv"
      },
      "source": [
        "**Highlights:**\n",
        "\n",
        "- Accuracy scores were at least 90%.\n",
        "- Predicted and validation accuracy scores were relatively close to each other (but not too close to account for random statistical noise and interference).\n",
        "- Utilized a combination of simple (e.g: Logistic Regression) and advanced (e.g: XGBoost) Machine Learning models to showcase a variety of results.\n",
        "\n",
        "**Challenges Faced:**\n",
        "\n",
        "- Random Forest and XGBoost models took significantly longer than expected to optimize.\n",
        "- ROC_AUC scores showed significant overfitting.\n",
        "\n",
        "**Suggested Improvements:**\n",
        "\n",
        "- For future projects, optimize simple Machine Learning models first.\n",
        "- Try optimizing models using both scoring metrics (Accuracy and ROC_AUC). It may help to create two .ipynb files (one for each metric) in order to do so."
      ]
    }
  ]
}